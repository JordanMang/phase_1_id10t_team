{
 "cells": [
  {
   "cell_type": "code",
   "execution_count": null,
   "metadata": {},
   "outputs": [],
   "source": [
    "import csv\n",
    "import json\n",
    "import pandas as pd\n",
    "import matplotlib.pyplot as plt\n",
    "import sqlite3\n",
    "import numpy as np\n",
    "import seaborn as sns"
   ]
  },
  {
   "cell_type": "code",
   "execution_count": null,
   "metadata": {},
   "outputs": [],
   "source": [
    "rt_reviews_df = pd.read_csv('../Data/rt.reviews.tsv',\n",
    "                           delimiter='\\t',\n",
    "                           encoding=('unicode_escape'))"
   ]
  },
  {
   "cell_type": "code",
   "execution_count": null,
   "metadata": {},
   "outputs": [],
   "source": [
    "rt_reviews_df.head()"
   ]
  },
  {
   "cell_type": "code",
   "execution_count": null,
   "metadata": {},
   "outputs": [],
   "source": [
    "rt_reviews_df['rating'].value_counts()"
   ]
  },
  {
   "cell_type": "code",
   "execution_count": null,
   "metadata": {},
   "outputs": [],
   "source": [
    "tnmovie = pd.read_csv('../Data/tn.movie_budgets.csv')"
   ]
  },
  {
   "cell_type": "code",
   "execution_count": null,
   "metadata": {},
   "outputs": [],
   "source": [
    "tnmovie['worldwide_gross'] = tnmovie['worldwide_gross'].str.replace(\"\\$|,|\\.\", '', regex = True).astype('int64')\n",
    "\n",
    "tnmovie['domestic_gross'] = tnmovie['domestic_gross'].str.replace(\"\\$|,|\\.\", '', regex = True).astype('int64')\n",
    "\n",
    "tnmovie['production_budget'] = tnmovie['production_budget'].str.replace(\"\\$|,|\\.\", '', regex = True).astype('int64')\n",
    "\n",
    "tnmovie['profit'] = tnmovie['worldwide_gross'] - tnmovie['production_budget']\n",
    "\n",
    "tnmovie['perc_return'] = (tnmovie['profit'] / tnmovie['production_budget']) * 100"
   ]
  },
  {
   "cell_type": "markdown",
   "metadata": {},
   "source": [
    "# Reading data"
   ]
  },
  {
   "cell_type": "markdown",
   "metadata": {},
   "source": [
    "Read the im.db data with SQL"
   ]
  },
  {
   "cell_type": "code",
   "execution_count": null,
   "metadata": {
    "scrolled": true
   },
   "outputs": [],
   "source": [
    "conn = sqlite3.connect('../Data/im.db')\n",
    "pd.read_sql('''\n",
    "SELECT\n",
    "    *\n",
    "FROM\n",
    "    sqlite_master\n",
    "\n",
    "''',conn)"
   ]
  },
  {
   "cell_type": "markdown",
   "metadata": {},
   "source": [
    "# Directors SQL"
   ]
  },
  {
   "cell_type": "markdown",
   "metadata": {},
   "source": [
    "Use SQL query to join tables by primary and foreign keys. This new comprehensive dataframe contains indentifying data regarding directors."
   ]
  },
  {
   "cell_type": "code",
   "execution_count": null,
   "metadata": {},
   "outputs": [],
   "source": [
    "directors_df = pd.read_sql('''\n",
    "SELECT\n",
    "    category,\n",
    "    pr.person_id,\n",
    "    pr.movie_id,\n",
    "    primary_name,\n",
    "    primary_title\n",
    "FROM\n",
    "    principals as pr\n",
    "INNER JOIN\n",
    "    persons as p using(person_id)\n",
    "INNER JOIN\n",
    "    movie_basics as mb using(movie_id)\n",
    "WHERE\n",
    "    category = 'director'\n",
    "''',conn)\n",
    "\n",
    "directors_df"
   ]
  },
  {
   "cell_type": "markdown",
   "metadata": {},
   "source": [
    "# Directors dataframe merge"
   ]
  },
  {
   "cell_type": "markdown",
   "metadata": {},
   "source": [
    "Merge the directors and tnmovie dataframes on 'primary_title' and 'movie'"
   ]
  },
  {
   "cell_type": "code",
   "execution_count": null,
   "metadata": {},
   "outputs": [],
   "source": [
    "directors_df = pd.merge(directors_df,\n",
    "                  tnmovie,\n",
    "                  left_on='primary_title',\n",
    "                  right_on='movie')\n",
    "\n",
    "directors_df"
   ]
  },
  {
   "cell_type": "markdown",
   "metadata": {},
   "source": [
    "# Top Directors by Profit"
   ]
  },
  {
   "cell_type": "markdown",
   "metadata": {},
   "source": [
    "Count the values associated with the 15 most common directors that appear in the sorted directors df."
   ]
  },
  {
   "cell_type": "code",
   "execution_count": null,
   "metadata": {},
   "outputs": [],
   "source": [
    "top_15_dirs = directors_df.value_counts('primary_name').head(15)\n",
    "\n",
    "top_15_dirs"
   ]
  },
  {
   "cell_type": "markdown",
   "metadata": {},
   "source": [
    "Make a list of director names using index."
   ]
  },
  {
   "cell_type": "code",
   "execution_count": null,
   "metadata": {
    "scrolled": false
   },
   "outputs": [],
   "source": [
    "top_15_dirs_list = list(top_15_dirs.index)\n",
    "\n",
    "top_15_dirs_list"
   ]
  },
  {
   "cell_type": "markdown",
   "metadata": {},
   "source": [
    "Iterate through the list of top 15 directors.\n",
    "\n",
    "Next, locate the rows and columns where the 'primary_name' is equal to the director's name.\n",
    "\n",
    "Then, append the average profit for each movie the director directed in to a new list."
   ]
  },
  {
   "cell_type": "code",
   "execution_count": null,
   "metadata": {
    "scrolled": true
   },
   "outputs": [],
   "source": [
    "avg_dir = []\n",
    "\n",
    "for director in top_15_dirs_list:\n",
    "    directors_filtered = directors_df.loc[directors_df['primary_name'] == director]\n",
    "    avg_dir.append(directors_filtered.profit.mean())\n",
    "    \n",
    "avg_dir"
   ]
  },
  {
   "cell_type": "markdown",
   "metadata": {},
   "source": [
    "Create a dataframe using zip with the top 15 directors and average profit lists"
   ]
  },
  {
   "cell_type": "code",
   "execution_count": null,
   "metadata": {},
   "outputs": [],
   "source": [
    "directing_df = pd.DataFrame(list(zip(top_15_dirs_list, avg_dir)),\n",
    "               columns =['director_name', 'average_profit'])"
   ]
  },
  {
   "cell_type": "markdown",
   "metadata": {},
   "source": [
    "Sort the dataframe by 'average_profit'"
   ]
  },
  {
   "cell_type": "code",
   "execution_count": null,
   "metadata": {},
   "outputs": [],
   "source": [
    "directing_df.sort_values(by='average_profit', inplace=True, ascending=False)"
   ]
  },
  {
   "cell_type": "markdown",
   "metadata": {},
   "source": [
    "# Directors data visualization"
   ]
  },
  {
   "cell_type": "code",
   "execution_count": null,
   "metadata": {},
   "outputs": [],
   "source": [
    "#fig, ax = plt.subplots(figsize=(14,9))\n",
    "\n",
    "#x = rev_dir\n",
    "#y = top_20_dirs\n",
    "\n",
    "#ax.set_title(\"Top 20 Directors in Highest Earning Movies\")\n",
    "#ax.set_ylabel(\"Directors\")\n",
    "#ax.set_xlabel(\"Average Profit Per Movie\")\n",
    "\n",
    "#ax.ticklabel_format(axis='x', style='plain')\n",
    "\n",
    "#ax.barh(width=x, y=y);"
   ]
  },
  {
   "cell_type": "markdown",
   "metadata": {},
   "source": [
    "Create a barh using seaborn with the average profit for each movie the director directed on the x-axis and the top 15 directors list on the y-axis. \n",
    "\n",
    "Change x-axis units from scientific notation to easily readable numbers."
   ]
  },
  {
   "cell_type": "code",
   "execution_count": null,
   "metadata": {},
   "outputs": [],
   "source": [
    "sns.set(style=\"whitegrid\")\n",
    "\n",
    "sns.color_palette(\"rocket\")\n",
    "\n",
    "sns.set(rc = {'figure.figsize':(15,10)})\n",
    "\n",
    "g = sns.barplot(x='average_profit', y='director_name', data=directing_df.head(5))\n",
    "\n",
    "plt.ticklabel_format(axis='x', style='plain')\n",
    "plt.title('Top 5 Directors in Highest Grossing Movies', fontsize=30)\n",
    "plt.xlabel('Average Profit Per Movie', fontsize=24)\n",
    "plt.ylabel('Directors', fontsize=24)\n",
    "\n",
    "ticks_loc = g.get_xticks().tolist()\n",
    "#g.xaxis.set_major_locator(mticker.FixedLocator(ticks_loc))\n",
    "\n",
    "#g.set_xticklabels([label_format.format(x) for x in ticks_loc])\n",
    "\n",
    "xlabels = ['{:,.0f}'.format(x) + ' MM' for x in g.get_xticks()/1000000]\n",
    "g.set_xticklabels(xlabels);"
   ]
  },
  {
   "cell_type": "markdown",
   "metadata": {},
   "source": [
    "# Insights"
   ]
  },
  {
   "cell_type": "markdown",
   "metadata": {},
   "source": [
    "Directors draw in audiences! Steven Spielbergs, Tim Burtons, and Ridley Scotts \n",
    "create universes that pull over $100 million in box office. These directors have unqiue, \n",
    "beloved fimlamking styles. And their fans come out in droves to experience them in theaters. \n",
    "Sometimes multiple times. With one these visionaries at the helm, Microsoft may likley produce \n",
    "an instant classic and a blockbuster hit at the same time."
   ]
  },
  {
   "cell_type": "markdown",
   "metadata": {},
   "source": [
    "# Actors SQL"
   ]
  },
  {
   "cell_type": "markdown",
   "metadata": {},
   "source": [
    "Use SQL query to join tables by primary and foreign keys. This new comprehensive dataframe contains indentifying data regarding actors."
   ]
  },
  {
   "cell_type": "code",
   "execution_count": null,
   "metadata": {},
   "outputs": [],
   "source": [
    "actors = pd.read_sql('''\n",
    "SELECT\n",
    "    category,\n",
    "    pr.person_id,\n",
    "    pr.movie_id,\n",
    "    primary_name,\n",
    "    primary_title\n",
    "FROM\n",
    "    principals as pr\n",
    "INNER JOIN\n",
    "    persons as p using(person_id)\n",
    "INNER JOIN\n",
    "    movie_basics as mb using(movie_id)\n",
    "WHERE\n",
    "    category = 'actor' \n",
    "    or\n",
    "    category = 'actress'\n",
    "''',conn)\n",
    "\n",
    "actors"
   ]
  },
  {
   "cell_type": "markdown",
   "metadata": {},
   "source": [
    "# Actors dataframe merge"
   ]
  },
  {
   "cell_type": "markdown",
   "metadata": {},
   "source": [
    "Merge the actors and tnmovie dataframes on 'primary_title' and 'movie'"
   ]
  },
  {
   "cell_type": "code",
   "execution_count": null,
   "metadata": {},
   "outputs": [],
   "source": [
    "actors_df = pd.merge(actors,\n",
    "                  tnmovie,\n",
    "                  left_on='primary_title',\n",
    "                  right_on='movie')\n",
    "\n",
    "actors_df"
   ]
  },
  {
   "cell_type": "markdown",
   "metadata": {},
   "source": [
    "# Top Actors by Profit"
   ]
  },
  {
   "cell_type": "markdown",
   "metadata": {},
   "source": [
    "Count the values associated with the 15 most common names that appear in the sorted actors df."
   ]
  },
  {
   "cell_type": "code",
   "execution_count": null,
   "metadata": {},
   "outputs": [],
   "source": [
    "top_15_actors = actors_df.value_counts('primary_name').head(15)\n",
    "\n",
    "top_15_actors"
   ]
  },
  {
   "cell_type": "markdown",
   "metadata": {},
   "source": [
    "Make a list of actor names using index."
   ]
  },
  {
   "cell_type": "code",
   "execution_count": null,
   "metadata": {},
   "outputs": [],
   "source": [
    "top_15_actors = list(top_15_actors.index)\n",
    "\n",
    "top_15_actors"
   ]
  },
  {
   "cell_type": "markdown",
   "metadata": {},
   "source": [
    "Iterate through the list of top 15 actors.\n",
    "\n",
    "Next, locate the rows and columns where the 'primary_name' is equal to the actors's name.\n",
    "\n",
    "Then, append the average profit for each movie the actor appeared in to a new list."
   ]
  },
  {
   "cell_type": "code",
   "execution_count": null,
   "metadata": {},
   "outputs": [],
   "source": [
    "avg_actor = []\n",
    "\n",
    "for actor in top_15_actors:\n",
    "    actors_filtered = actors_df.loc[actors_df['primary_name'] == actor]\n",
    "    avg_actor.append(actors_filtered.profit.mean())\n",
    "    \n",
    "avg_actor[0]"
   ]
  },
  {
   "cell_type": "markdown",
   "metadata": {},
   "source": [
    "Create a dataframe using zip with the top 15 actors and average profit lists"
   ]
  },
  {
   "cell_type": "code",
   "execution_count": null,
   "metadata": {},
   "outputs": [],
   "source": [
    "acting_df = pd.DataFrame(list(zip(top_15_actors, avg_actor)),\n",
    "               columns =['actor_name', 'average_profit'])"
   ]
  },
  {
   "cell_type": "markdown",
   "metadata": {},
   "source": [
    "Sort the dataframe by 'average_profit'"
   ]
  },
  {
   "cell_type": "code",
   "execution_count": null,
   "metadata": {},
   "outputs": [],
   "source": [
    "acting_df.sort_values(by='average_profit', inplace=True, ascending=False)"
   ]
  },
  {
   "cell_type": "markdown",
   "metadata": {},
   "source": [
    "# Actors data visualization"
   ]
  },
  {
   "cell_type": "code",
   "execution_count": null,
   "metadata": {},
   "outputs": [],
   "source": [
    "#fig, ax = plt.subplots(figsize=(14,9))\n",
    "\n",
    "\n",
    "#x = rev_actor\n",
    "#y = top_25_actors\n",
    "\n",
    "#ax.set_title(\"Top 25 Actors in Highest Earning Movies\")\n",
    "#ax.set_ylabel(\"Actors\")\n",
    "#ax.set_xlabel(\"Average Profit Per Movie\")\n",
    "\n",
    "#ax.ticklabel_format(axis='x', style='plain')\n",
    "\n",
    "#xlabels = ['{:,.0f}'.format(x) + ' MM' for x in ax.get_xticks()/1000000]\n",
    "#ax.set_xticklabels(xlabels)\n",
    "\n",
    "#ax.barh(width=x, y=y);"
   ]
  },
  {
   "cell_type": "markdown",
   "metadata": {},
   "source": [
    "Create a barh using seaborn with the average profit for each movie the actor appeared in on the x-axis and the top 15 actors list on the y-axis.\n",
    "\n",
    "Change x-axis units from scientific notation to easily readable numbers."
   ]
  },
  {
   "cell_type": "code",
   "execution_count": null,
   "metadata": {
    "scrolled": false
   },
   "outputs": [],
   "source": [
    "sns.set(style=\"whitegrid\")\n",
    "\n",
    "sns.color_palette(\"rocket\")\n",
    "\n",
    "sns.set(rc = {'figure.figsize':(15,10)})\n",
    "\n",
    "g = sns.barplot(x='average_profit', y='actor_name', data=acting_df.head(5))\n",
    "\n",
    "plt.title('Top 5 Actors in Highest Grossing Movies', fontsize=30)\n",
    "plt.xlabel('Average Profit Per Movie', fontsize=24)\n",
    "plt.ylabel('Actors', fontsize=24)\n",
    "\n",
    "plt.ticklabel_format(axis='x', style='plain')\n",
    "\n",
    "xlabels = ['{:,.0f}'.format(x) + ' MM' for x in g.get_xticks()/1000000]\n",
    "g.set_xticklabels(xlabels);"
   ]
  },
  {
   "cell_type": "markdown",
   "metadata": {},
   "source": [
    "# Insights"
   ]
  },
  {
   "cell_type": "markdown",
   "metadata": {},
   "source": [
    "Movie star appeal is a major box office draw! Actors like Dwayne Johnson, Jennifer Lawrence, and Kevin Hart not only makes us laugh and cry, they also inspire us. These actors average over $150 million per film because they have an army of die-hard fans always ready to invade the next midnight premiere. Casting one these stars in a Microsoft movie, may likley drive high box office sales."
   ]
  }
 ],
 "metadata": {
  "kernelspec": {
   "display_name": "Python (learn-env)",
   "language": "python",
   "name": "learn-env"
  },
  "language_info": {
   "codemirror_mode": {
    "name": "ipython",
    "version": 3
   },
   "file_extension": ".py",
   "mimetype": "text/x-python",
   "name": "python",
   "nbconvert_exporter": "python",
   "pygments_lexer": "ipython3",
   "version": "3.9.12"
  }
 },
 "nbformat": 4,
 "nbformat_minor": 4
}
