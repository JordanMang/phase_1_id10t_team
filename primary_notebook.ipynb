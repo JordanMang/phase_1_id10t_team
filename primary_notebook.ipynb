{
 "cells": [
  {
   "cell_type": "markdown",
   "metadata": {},
   "source": [
    "# Import Packages"
   ]
  },
  {
   "cell_type": "code",
   "execution_count": 1,
   "metadata": {},
   "outputs": [],
   "source": [
    "import csv\n",
    "import json\n",
    "import pandas as pd\n",
    "import matplotlib.pyplot as plt\n",
    "import matplotlib.ticker as mtick\n",
    "from matplotlib.ticker import FormatStrFormatter\n",
    "import sqlite3\n",
    "import seaborn as sns\n",
    "from pandasql import sqldf\n",
    "import numpy as np"
   ]
  },
  {
   "cell_type": "markdown",
   "metadata": {},
   "source": [
    "# Project Goals"
   ]
  },
  {
   "cell_type": "markdown",
   "metadata": {},
   "source": [
    "With the top 6 US studios releasing an average of 60 films per year*, Microsoft Studios™ must ensure their first releases have the best chance of box office success in order to compete with established companies.\n",
    "\n",
    "As an initial step, ID10T Consultants were brought in to evaluate historically successful movies to understand the common characteristics shared by Box Office Hits. \n"
   ]
  },
  {
   "cell_type": "markdown",
   "metadata": {},
   "source": [
    "# Data"
   ]
  },
  {
   "cell_type": "markdown",
   "metadata": {},
   "source": [
    "01    |    Financial Information - The Numbers Movie Budget Data\n",
    "\n",
    "02    |    Genre Information - IMDB Movie Database\n",
    "\n",
    "03    |   Actor / Director Information - IMDB Movie Database\n",
    "\n",
    "04    |    Release Date Information - IMDB Movie Database\n",
    "\n",
    "05    |    Critic Review Data - IMDB Movie Database"
   ]
  },
  {
   "cell_type": "markdown",
   "metadata": {},
   "source": [
    "# Methods"
   ]
  },
  {
   "cell_type": "markdown",
   "metadata": {},
   "source": [
    "Domestic Gross Revenue: Useful to understand interests of US viewers, but difficult to understand global appeal.\n",
    "\n",
    "Global  Gross Revenue: Better metric than domestic gross, and widely used by the general public to understand success at the box office. However, not all box office hits are profitable.\n",
    "\n",
    "Profitability: Profitability is a useful tool to understand the characteristics of movies that provided a strong return, but inflation negatively impacts the weighting of old vs new films by profits.\n",
    "\n",
    "Return On Investment (ROI): With a percentage-based metric, we can standardize profit across all films to understand what leads to a box office hit.\n",
    "\n",
    "\n",
    "__ROI will be the primary indicator used for box office success__ \n"
   ]
  },
  {
   "cell_type": "markdown",
   "metadata": {},
   "source": [
    "# Charlie Section - ID Best Genres to use Based on Historical Successful Movies"
   ]
  },
  {
   "cell_type": "markdown",
   "metadata": {},
   "source": [
    "### Review Data Available for Movie Genre/Box Office Success"
   ]
  },
  {
   "cell_type": "markdown",
   "metadata": {},
   "source": [
    "It looks like first going into the IM.DB database is a good way to see what movies are in our dataset"
   ]
  },
  {
   "cell_type": "code",
   "execution_count": 2,
   "metadata": {},
   "outputs": [],
   "source": [
    "conn = sqlite3.connect('./Data/im.db')"
   ]
  },
  {
   "cell_type": "markdown",
   "metadata": {},
   "source": [
    "Looking at how to access all tables/table names"
   ]
  },
  {
   "cell_type": "code",
   "execution_count": 3,
   "metadata": {},
   "outputs": [
    {
     "data": {
      "text/html": [
       "<div>\n",
       "<style scoped>\n",
       "    .dataframe tbody tr th:only-of-type {\n",
       "        vertical-align: middle;\n",
       "    }\n",
       "\n",
       "    .dataframe tbody tr th {\n",
       "        vertical-align: top;\n",
       "    }\n",
       "\n",
       "    .dataframe thead th {\n",
       "        text-align: right;\n",
       "    }\n",
       "</style>\n",
       "<table border=\"1\" class=\"dataframe\">\n",
       "  <thead>\n",
       "    <tr style=\"text-align: right;\">\n",
       "      <th></th>\n",
       "      <th>type</th>\n",
       "      <th>name</th>\n",
       "      <th>tbl_name</th>\n",
       "      <th>rootpage</th>\n",
       "      <th>sql</th>\n",
       "    </tr>\n",
       "  </thead>\n",
       "  <tbody>\n",
       "    <tr>\n",
       "      <th>0</th>\n",
       "      <td>table</td>\n",
       "      <td>movie_basics</td>\n",
       "      <td>movie_basics</td>\n",
       "      <td>2</td>\n",
       "      <td>CREATE TABLE \"movie_basics\" (\\n\"movie_id\" TEXT...</td>\n",
       "    </tr>\n",
       "    <tr>\n",
       "      <th>1</th>\n",
       "      <td>table</td>\n",
       "      <td>directors</td>\n",
       "      <td>directors</td>\n",
       "      <td>3</td>\n",
       "      <td>CREATE TABLE \"directors\" (\\n\"movie_id\" TEXT,\\n...</td>\n",
       "    </tr>\n",
       "    <tr>\n",
       "      <th>2</th>\n",
       "      <td>table</td>\n",
       "      <td>known_for</td>\n",
       "      <td>known_for</td>\n",
       "      <td>4</td>\n",
       "      <td>CREATE TABLE \"known_for\" (\\n\"person_id\" TEXT,\\...</td>\n",
       "    </tr>\n",
       "    <tr>\n",
       "      <th>3</th>\n",
       "      <td>table</td>\n",
       "      <td>movie_akas</td>\n",
       "      <td>movie_akas</td>\n",
       "      <td>5</td>\n",
       "      <td>CREATE TABLE \"movie_akas\" (\\n\"movie_id\" TEXT,\\...</td>\n",
       "    </tr>\n",
       "    <tr>\n",
       "      <th>4</th>\n",
       "      <td>table</td>\n",
       "      <td>movie_ratings</td>\n",
       "      <td>movie_ratings</td>\n",
       "      <td>6</td>\n",
       "      <td>CREATE TABLE \"movie_ratings\" (\\n\"movie_id\" TEX...</td>\n",
       "    </tr>\n",
       "    <tr>\n",
       "      <th>5</th>\n",
       "      <td>table</td>\n",
       "      <td>persons</td>\n",
       "      <td>persons</td>\n",
       "      <td>7</td>\n",
       "      <td>CREATE TABLE \"persons\" (\\n\"person_id\" TEXT,\\n ...</td>\n",
       "    </tr>\n",
       "    <tr>\n",
       "      <th>6</th>\n",
       "      <td>table</td>\n",
       "      <td>principals</td>\n",
       "      <td>principals</td>\n",
       "      <td>8</td>\n",
       "      <td>CREATE TABLE \"principals\" (\\n\"movie_id\" TEXT,\\...</td>\n",
       "    </tr>\n",
       "    <tr>\n",
       "      <th>7</th>\n",
       "      <td>table</td>\n",
       "      <td>writers</td>\n",
       "      <td>writers</td>\n",
       "      <td>9</td>\n",
       "      <td>CREATE TABLE \"writers\" (\\n\"movie_id\" TEXT,\\n  ...</td>\n",
       "    </tr>\n",
       "  </tbody>\n",
       "</table>\n",
       "</div>"
      ],
      "text/plain": [
       "    type           name       tbl_name  rootpage  \\\n",
       "0  table   movie_basics   movie_basics         2   \n",
       "1  table      directors      directors         3   \n",
       "2  table      known_for      known_for         4   \n",
       "3  table     movie_akas     movie_akas         5   \n",
       "4  table  movie_ratings  movie_ratings         6   \n",
       "5  table        persons        persons         7   \n",
       "6  table     principals     principals         8   \n",
       "7  table        writers        writers         9   \n",
       "\n",
       "                                                 sql  \n",
       "0  CREATE TABLE \"movie_basics\" (\\n\"movie_id\" TEXT...  \n",
       "1  CREATE TABLE \"directors\" (\\n\"movie_id\" TEXT,\\n...  \n",
       "2  CREATE TABLE \"known_for\" (\\n\"person_id\" TEXT,\\...  \n",
       "3  CREATE TABLE \"movie_akas\" (\\n\"movie_id\" TEXT,\\...  \n",
       "4  CREATE TABLE \"movie_ratings\" (\\n\"movie_id\" TEX...  \n",
       "5  CREATE TABLE \"persons\" (\\n\"person_id\" TEXT,\\n ...  \n",
       "6  CREATE TABLE \"principals\" (\\n\"movie_id\" TEXT,\\...  \n",
       "7  CREATE TABLE \"writers\" (\\n\"movie_id\" TEXT,\\n  ...  "
      ]
     },
     "execution_count": 3,
     "metadata": {},
     "output_type": "execute_result"
    }
   ],
   "source": [
    "pd.read_sql('''\n",
    "SELECT\n",
    "    *\n",
    "FROM\n",
    "    sqlite_master\n",
    "\n",
    "''',conn)"
   ]
  },
  {
   "cell_type": "markdown",
   "metadata": {},
   "source": [
    "After looking at the ERD, it looks like financial data is going to have to come from the movie budgets csv. For our metric of box office success, we want to use profit and return on investment (ROI) to best choose our type of movie.\n",
    "\n",
    "We could potentially use critic score from the ratings data table in IMDB if we wanted our studio to be known for producing critically acclaimed films that could win an award, but as a new studio, our execs are likely more worried about financials until their budget is large enough to take risks."
   ]
  },
  {
   "cell_type": "code",
   "execution_count": 4,
   "metadata": {},
   "outputs": [],
   "source": [
    "tnmovie = pd.read_csv('./Data/tn.movie_budgets.csv', parse_dates = ['release_date'])"
   ]
  },
  {
   "cell_type": "code",
   "execution_count": 5,
   "metadata": {},
   "outputs": [
    {
     "name": "stdout",
     "output_type": "stream",
     "text": [
      "<class 'pandas.core.frame.DataFrame'>\n",
      "RangeIndex: 5782 entries, 0 to 5781\n",
      "Data columns (total 6 columns):\n",
      " #   Column             Non-Null Count  Dtype         \n",
      "---  ------             --------------  -----         \n",
      " 0   id                 5782 non-null   int64         \n",
      " 1   release_date       5782 non-null   datetime64[ns]\n",
      " 2   movie              5782 non-null   object        \n",
      " 3   production_budget  5782 non-null   object        \n",
      " 4   domestic_gross     5782 non-null   object        \n",
      " 5   worldwide_gross    5782 non-null   object        \n",
      "dtypes: datetime64[ns](1), int64(1), object(4)\n",
      "memory usage: 271.2+ KB\n"
     ]
    }
   ],
   "source": [
    "tnmovie.info()"
   ]
  },
  {
   "cell_type": "markdown",
   "metadata": {},
   "source": [
    "### Cleaning the movie budget csv to use numerical data"
   ]
  },
  {
   "cell_type": "markdown",
   "metadata": {},
   "source": [
    "Additionally, addding a profit and a percent return (ROI) column"
   ]
  },
  {
   "cell_type": "code",
   "execution_count": 6,
   "metadata": {},
   "outputs": [],
   "source": [
    "tnmovie['worldwide_gross'] = tnmovie['worldwide_gross'].str.replace(\"\\$|,|\\.\", '', regex = True).astype('int64')\n",
    "\n",
    "tnmovie['domestic_gross'] = tnmovie['domestic_gross'].str.replace(\"\\$|,|\\.\", '', regex = True).astype('int64')\n",
    "\n",
    "tnmovie['production_budget'] = tnmovie['production_budget'].str.replace(\"\\$|,|\\.\", '', regex = True).astype('int64')\n",
    "\n",
    "tnmovie['profit'] = tnmovie['worldwide_gross'] - tnmovie['production_budget']\n",
    "\n",
    "tnmovie['perc_return'] = (tnmovie['profit'] / tnmovie['production_budget']) * 100"
   ]
  },
  {
   "cell_type": "code",
   "execution_count": 7,
   "metadata": {},
   "outputs": [
    {
     "data": {
      "text/html": [
       "<div>\n",
       "<style scoped>\n",
       "    .dataframe tbody tr th:only-of-type {\n",
       "        vertical-align: middle;\n",
       "    }\n",
       "\n",
       "    .dataframe tbody tr th {\n",
       "        vertical-align: top;\n",
       "    }\n",
       "\n",
       "    .dataframe thead th {\n",
       "        text-align: right;\n",
       "    }\n",
       "</style>\n",
       "<table border=\"1\" class=\"dataframe\">\n",
       "  <thead>\n",
       "    <tr style=\"text-align: right;\">\n",
       "      <th></th>\n",
       "      <th>id</th>\n",
       "      <th>release_date</th>\n",
       "      <th>movie</th>\n",
       "      <th>production_budget</th>\n",
       "      <th>domestic_gross</th>\n",
       "      <th>worldwide_gross</th>\n",
       "      <th>profit</th>\n",
       "      <th>perc_return</th>\n",
       "    </tr>\n",
       "  </thead>\n",
       "  <tbody>\n",
       "    <tr>\n",
       "      <th>0</th>\n",
       "      <td>1</td>\n",
       "      <td>2009-12-18</td>\n",
       "      <td>Avatar</td>\n",
       "      <td>425000000</td>\n",
       "      <td>760507625</td>\n",
       "      <td>2776345279</td>\n",
       "      <td>2351345279</td>\n",
       "      <td>553.257713</td>\n",
       "    </tr>\n",
       "    <tr>\n",
       "      <th>1</th>\n",
       "      <td>2</td>\n",
       "      <td>2011-05-20</td>\n",
       "      <td>Pirates of the Caribbean: On Stranger Tides</td>\n",
       "      <td>410600000</td>\n",
       "      <td>241063875</td>\n",
       "      <td>1045663875</td>\n",
       "      <td>635063875</td>\n",
       "      <td>154.667286</td>\n",
       "    </tr>\n",
       "    <tr>\n",
       "      <th>2</th>\n",
       "      <td>3</td>\n",
       "      <td>2019-06-07</td>\n",
       "      <td>Dark Phoenix</td>\n",
       "      <td>350000000</td>\n",
       "      <td>42762350</td>\n",
       "      <td>149762350</td>\n",
       "      <td>-200237650</td>\n",
       "      <td>-57.210757</td>\n",
       "    </tr>\n",
       "    <tr>\n",
       "      <th>3</th>\n",
       "      <td>4</td>\n",
       "      <td>2015-05-01</td>\n",
       "      <td>Avengers: Age of Ultron</td>\n",
       "      <td>330600000</td>\n",
       "      <td>459005868</td>\n",
       "      <td>1403013963</td>\n",
       "      <td>1072413963</td>\n",
       "      <td>324.384139</td>\n",
       "    </tr>\n",
       "    <tr>\n",
       "      <th>4</th>\n",
       "      <td>5</td>\n",
       "      <td>2017-12-15</td>\n",
       "      <td>Star Wars Ep. VIII: The Last Jedi</td>\n",
       "      <td>317000000</td>\n",
       "      <td>620181382</td>\n",
       "      <td>1316721747</td>\n",
       "      <td>999721747</td>\n",
       "      <td>315.369636</td>\n",
       "    </tr>\n",
       "  </tbody>\n",
       "</table>\n",
       "</div>"
      ],
      "text/plain": [
       "   id release_date                                        movie  \\\n",
       "0   1   2009-12-18                                       Avatar   \n",
       "1   2   2011-05-20  Pirates of the Caribbean: On Stranger Tides   \n",
       "2   3   2019-06-07                                 Dark Phoenix   \n",
       "3   4   2015-05-01                      Avengers: Age of Ultron   \n",
       "4   5   2017-12-15            Star Wars Ep. VIII: The Last Jedi   \n",
       "\n",
       "   production_budget  domestic_gross  worldwide_gross      profit  perc_return  \n",
       "0          425000000       760507625       2776345279  2351345279   553.257713  \n",
       "1          410600000       241063875       1045663875   635063875   154.667286  \n",
       "2          350000000        42762350        149762350  -200237650   -57.210757  \n",
       "3          330600000       459005868       1403013963  1072413963   324.384139  \n",
       "4          317000000       620181382       1316721747   999721747   315.369636  "
      ]
     },
     "execution_count": 7,
     "metadata": {},
     "output_type": "execute_result"
    }
   ],
   "source": [
    "tnmovie.head()"
   ]
  },
  {
   "cell_type": "code",
   "execution_count": 8,
   "metadata": {},
   "outputs": [],
   "source": [
    "tnmovie = tnmovie.sort_values(by='profit',\n",
    "                   ascending=False)"
   ]
  },
  {
   "cell_type": "code",
   "execution_count": 9,
   "metadata": {},
   "outputs": [
    {
     "data": {
      "text/plain": [
       "(5782, 8)"
      ]
     },
     "execution_count": 9,
     "metadata": {},
     "output_type": "execute_result"
    }
   ],
   "source": [
    "tnmovie.shape"
   ]
  },
  {
   "cell_type": "markdown",
   "metadata": {},
   "source": [
    "### Creating a Movie Basics dataframe from the IM.DB Database to grab movie genres"
   ]
  },
  {
   "cell_type": "code",
   "execution_count": 10,
   "metadata": {},
   "outputs": [],
   "source": [
    "moviebasics = pd.read_sql('''\n",
    "SELECT\n",
    "    primary_title,\n",
    "    genres\n",
    "FROM\n",
    "    movie_basics\n",
    "WHERE\n",
    "    primary_title = original_title\n",
    "\n",
    "''',conn)"
   ]
  },
  {
   "cell_type": "code",
   "execution_count": 11,
   "metadata": {},
   "outputs": [
    {
     "data": {
      "text/html": [
       "<div>\n",
       "<style scoped>\n",
       "    .dataframe tbody tr th:only-of-type {\n",
       "        vertical-align: middle;\n",
       "    }\n",
       "\n",
       "    .dataframe tbody tr th {\n",
       "        vertical-align: top;\n",
       "    }\n",
       "\n",
       "    .dataframe thead th {\n",
       "        text-align: right;\n",
       "    }\n",
       "</style>\n",
       "<table border=\"1\" class=\"dataframe\">\n",
       "  <thead>\n",
       "    <tr style=\"text-align: right;\">\n",
       "      <th></th>\n",
       "      <th>primary_title</th>\n",
       "      <th>genres</th>\n",
       "    </tr>\n",
       "  </thead>\n",
       "  <tbody>\n",
       "    <tr>\n",
       "      <th>0</th>\n",
       "      <td>Sunghursh</td>\n",
       "      <td>Action,Crime,Drama</td>\n",
       "    </tr>\n",
       "    <tr>\n",
       "      <th>1</th>\n",
       "      <td>The Other Side of the Wind</td>\n",
       "      <td>Drama</td>\n",
       "    </tr>\n",
       "    <tr>\n",
       "      <th>2</th>\n",
       "      <td>Sabse Bada Sukh</td>\n",
       "      <td>Comedy,Drama</td>\n",
       "    </tr>\n",
       "    <tr>\n",
       "      <th>3</th>\n",
       "      <td>A Thin Life</td>\n",
       "      <td>Comedy</td>\n",
       "    </tr>\n",
       "    <tr>\n",
       "      <th>4</th>\n",
       "      <td>Bigfoot</td>\n",
       "      <td>Horror,Thriller</td>\n",
       "    </tr>\n",
       "  </tbody>\n",
       "</table>\n",
       "</div>"
      ],
      "text/plain": [
       "                primary_title              genres\n",
       "0                   Sunghursh  Action,Crime,Drama\n",
       "1  The Other Side of the Wind               Drama\n",
       "2             Sabse Bada Sukh        Comedy,Drama\n",
       "3                 A Thin Life              Comedy\n",
       "4                     Bigfoot     Horror,Thriller"
      ]
     },
     "execution_count": 11,
     "metadata": {},
     "output_type": "execute_result"
    }
   ],
   "source": [
    "moviebasics.head()"
   ]
  },
  {
   "cell_type": "markdown",
   "metadata": {},
   "source": [
    "### Creating a grouped dataframe to pull in genres w/ budget"
   ]
  },
  {
   "cell_type": "markdown",
   "metadata": {},
   "source": [
    "#### Creating a new clean dataframe with just film title, genres,production_budget, worldwide_gross, and profit"
   ]
  },
  {
   "cell_type": "markdown",
   "metadata": {},
   "source": [
    "First, creating a new grouped dataframe with duplicate movies to not lose any genres,\n",
    "Then removing rows with null values in genres"
   ]
  },
  {
   "cell_type": "code",
   "execution_count": 12,
   "metadata": {},
   "outputs": [],
   "source": [
    "genres = pd.merge(moviebasics,\n",
    "                  tnmovie,\n",
    "                  left_on='primary_title',\n",
    "                  right_on='movie')\n",
    "\n",
    "genres.dropna(subset=['genres'],\n",
    "             inplace=True)"
   ]
  },
  {
   "cell_type": "markdown",
   "metadata": {},
   "source": [
    "Now, updating the genres dataframe into a new, smaller dataframe with only pertinent columns"
   ]
  },
  {
   "cell_type": "code",
   "execution_count": 13,
   "metadata": {},
   "outputs": [],
   "source": [
    "genres_clean = genres.filter(['primary_title', 'genres', 'production_budget', 'worldwide_gross', 'profit', 'perc_return'], axis=1)\n"
   ]
  },
  {
   "cell_type": "code",
   "execution_count": 14,
   "metadata": {},
   "outputs": [
    {
     "data": {
      "text/plain": [
       "(3381, 6)"
      ]
     },
     "execution_count": 14,
     "metadata": {},
     "output_type": "execute_result"
    }
   ],
   "source": [
    "genres_clean.shape"
   ]
  },
  {
   "cell_type": "markdown",
   "metadata": {},
   "source": [
    "Quick check to see which movies have a large ROI"
   ]
  },
  {
   "cell_type": "code",
   "execution_count": 15,
   "metadata": {},
   "outputs": [],
   "source": [
    "genres_clean.sort_values(by='perc_return',\n",
    "                        ascending=False,\n",
    "                        inplace=True)"
   ]
  },
  {
   "cell_type": "markdown",
   "metadata": {},
   "source": [
    "It appears that the top ROI movies didn't necessarily have large budgets, leading to an outsized ROI. \n",
    "\n",
    "Some of these movies may have such a large global gross due to cult status or nostalgia (Cinderella, Rocky, Bambi). We want a fan following, but we don't want to risk selection of genre that may not be successful (at large).\n",
    "\n",
    "Additionally, the data frame has duplicate rows (all values same) - we can drop these duplicates as it won't impact understanding the financials or the genre type.\n",
    "\n",
    "Next step cleans for complete duplicates, and filters down to only include movies with a global gross over 152,962,083 (the revenue of the 1000th top grossing movie).\n",
    "\n",
    "This way, our dataframe will suggest the genre to use for a movie if the studio wants to produce a top 1000 movie (by worldwide gross, the biggest metric used by the public) and what the genre should be to get a strong ROI."
   ]
  },
  {
   "cell_type": "markdown",
   "metadata": {},
   "source": [
    "By filtering the genres_clean dataframe to only inlcude movies that have grossed in the top 100 worldwide, our dataframe has shrunk to only 561 records"
   ]
  },
  {
   "cell_type": "markdown",
   "metadata": {},
   "source": [
    "### With a clean dataframe of movies and genres, create a new dataframe with Booleans for whether the movie has a certain genre"
   ]
  },
  {
   "cell_type": "markdown",
   "metadata": {},
   "source": [
    "First create a new dataframe of just name, perc_return, and genre to use for analysis"
   ]
  },
  {
   "cell_type": "code",
   "execution_count": 16,
   "metadata": {},
   "outputs": [],
   "source": [
    "genres_final = genres_clean.filter(['primary_title', 'genres', 'perc_return'], axis=1)"
   ]
  },
  {
   "cell_type": "markdown",
   "metadata": {},
   "source": [
    "Next, use a lambda to concatenate the genres by title so we only have one record per title"
   ]
  },
  {
   "cell_type": "code",
   "execution_count": 17,
   "metadata": {},
   "outputs": [],
   "source": [
    "genres_final['genres'] = genres_clean.groupby(['primary_title'])['genres'].transform(lambda x : ','.join(x))\n",
    "  \n",
    "# drop duplicate data\n",
    "genres_final = genres_final.drop_duplicates(keep='first')   "
   ]
  },
  {
   "cell_type": "code",
   "execution_count": 18,
   "metadata": {},
   "outputs": [
    {
     "data": {
      "text/html": [
       "<div>\n",
       "<style scoped>\n",
       "    .dataframe tbody tr th:only-of-type {\n",
       "        vertical-align: middle;\n",
       "    }\n",
       "\n",
       "    .dataframe tbody tr th {\n",
       "        vertical-align: top;\n",
       "    }\n",
       "\n",
       "    .dataframe thead th {\n",
       "        text-align: right;\n",
       "    }\n",
       "</style>\n",
       "<table border=\"1\" class=\"dataframe\">\n",
       "  <thead>\n",
       "    <tr style=\"text-align: right;\">\n",
       "      <th></th>\n",
       "      <th>primary_title</th>\n",
       "      <th>genres</th>\n",
       "      <th>perc_return</th>\n",
       "    </tr>\n",
       "  </thead>\n",
       "  <tbody>\n",
       "    <tr>\n",
       "      <th>2306</th>\n",
       "      <td>The Gallows</td>\n",
       "      <td>Horror,Mystery,Thriller</td>\n",
       "      <td>41556.474000</td>\n",
       "    </tr>\n",
       "    <tr>\n",
       "      <th>2540</th>\n",
       "      <td>Bambi</td>\n",
       "      <td>Biography,Documentary</td>\n",
       "      <td>31135.431235</td>\n",
       "    </tr>\n",
       "    <tr>\n",
       "      <th>2789</th>\n",
       "      <td>Night of the Living Dead</td>\n",
       "      <td>Horror,Horror</td>\n",
       "      <td>26292.161404</td>\n",
       "    </tr>\n",
       "    <tr>\n",
       "      <th>2685</th>\n",
       "      <td>Rocky</td>\n",
       "      <td>Action,Comedy,Drama,Action,Drama,Romance</td>\n",
       "      <td>22400.000000</td>\n",
       "    </tr>\n",
       "    <tr>\n",
       "      <th>1065</th>\n",
       "      <td>Halloween</td>\n",
       "      <td>Horror,Thriller,Horror,Thriller,Horror,Thriller</td>\n",
       "      <td>21438.461538</td>\n",
       "    </tr>\n",
       "    <tr>\n",
       "      <th>3386</th>\n",
       "      <td>Snow White and the Seven Dwarfs</td>\n",
       "      <td>Animation,Family,Comedy,Drama,Fantasy</td>\n",
       "      <td>12327.788038</td>\n",
       "    </tr>\n",
       "    <tr>\n",
       "      <th>1149</th>\n",
       "      <td>The Devil Inside</td>\n",
       "      <td>Horror</td>\n",
       "      <td>10075.949000</td>\n",
       "    </tr>\n",
       "    <tr>\n",
       "      <th>3006</th>\n",
       "      <td>The Birth of a Nation</td>\n",
       "      <td>Biography,Drama,History,Biography,Drama,History</td>\n",
       "      <td>9900.000000</td>\n",
       "    </tr>\n",
       "    <tr>\n",
       "      <th>2512</th>\n",
       "      <td>Graduation Day</td>\n",
       "      <td>Thriller</td>\n",
       "      <td>9457.600000</td>\n",
       "    </tr>\n",
       "    <tr>\n",
       "      <th>214</th>\n",
       "      <td>Cinderella</td>\n",
       "      <td>Musical,Comedy,Fantasy,Drama,Family,Fantasy,Fa...</td>\n",
       "      <td>8989.359138</td>\n",
       "    </tr>\n",
       "    <tr>\n",
       "      <th>1995</th>\n",
       "      <td>Home</td>\n",
       "      <td>Documentary,Family,Action,History,War,Drama,Fa...</td>\n",
       "      <td>8858.633600</td>\n",
       "    </tr>\n",
       "    <tr>\n",
       "      <th>1198</th>\n",
       "      <td>Insidious</td>\n",
       "      <td>Horror,Mystery,Thriller</td>\n",
       "      <td>6558.059067</td>\n",
       "    </tr>\n",
       "    <tr>\n",
       "      <th>2890</th>\n",
       "      <td>Unfriended</td>\n",
       "      <td>Horror,Mystery,Thriller</td>\n",
       "      <td>6336.419800</td>\n",
       "    </tr>\n",
       "    <tr>\n",
       "      <th>1592</th>\n",
       "      <td>Benji</td>\n",
       "      <td>Documentary,Sport,Crime,Drama,Family</td>\n",
       "      <td>6211.912000</td>\n",
       "    </tr>\n",
       "    <tr>\n",
       "      <th>1120</th>\n",
       "      <td>Paranormal Activity 2</td>\n",
       "      <td>Horror</td>\n",
       "      <td>5817.067733</td>\n",
       "    </tr>\n",
       "  </tbody>\n",
       "</table>\n",
       "</div>"
      ],
      "text/plain": [
       "                        primary_title  \\\n",
       "2306                      The Gallows   \n",
       "2540                            Bambi   \n",
       "2789         Night of the Living Dead   \n",
       "2685                            Rocky   \n",
       "1065                        Halloween   \n",
       "3386  Snow White and the Seven Dwarfs   \n",
       "1149                 The Devil Inside   \n",
       "3006            The Birth of a Nation   \n",
       "2512                   Graduation Day   \n",
       "214                        Cinderella   \n",
       "1995                             Home   \n",
       "1198                        Insidious   \n",
       "2890                       Unfriended   \n",
       "1592                            Benji   \n",
       "1120            Paranormal Activity 2   \n",
       "\n",
       "                                                 genres   perc_return  \n",
       "2306                            Horror,Mystery,Thriller  41556.474000  \n",
       "2540                              Biography,Documentary  31135.431235  \n",
       "2789                                      Horror,Horror  26292.161404  \n",
       "2685           Action,Comedy,Drama,Action,Drama,Romance  22400.000000  \n",
       "1065    Horror,Thriller,Horror,Thriller,Horror,Thriller  21438.461538  \n",
       "3386              Animation,Family,Comedy,Drama,Fantasy  12327.788038  \n",
       "1149                                             Horror  10075.949000  \n",
       "3006    Biography,Drama,History,Biography,Drama,History   9900.000000  \n",
       "2512                                           Thriller   9457.600000  \n",
       "214   Musical,Comedy,Fantasy,Drama,Family,Fantasy,Fa...   8989.359138  \n",
       "1995  Documentary,Family,Action,History,War,Drama,Fa...   8858.633600  \n",
       "1198                            Horror,Mystery,Thriller   6558.059067  \n",
       "2890                            Horror,Mystery,Thriller   6336.419800  \n",
       "1592               Documentary,Sport,Crime,Drama,Family   6211.912000  \n",
       "1120                                             Horror   5817.067733  "
      ]
     },
     "execution_count": 18,
     "metadata": {},
     "output_type": "execute_result"
    }
   ],
   "source": [
    "genres_final.head(15)"
   ]
  },
  {
   "cell_type": "code",
   "execution_count": 19,
   "metadata": {},
   "outputs": [
    {
     "data": {
      "text/plain": [
       "(2263, 3)"
      ]
     },
     "execution_count": 19,
     "metadata": {},
     "output_type": "execute_result"
    }
   ],
   "source": [
    "genres_final.shape"
   ]
  },
  {
   "cell_type": "markdown",
   "metadata": {},
   "source": [
    "After running the last drop duplicates, our list of movies over the 1000 gross mark is 444 movies total.\n",
    "\n",
    "Now, create a list of unique genres to use as the columns to run a bolean dataframe"
   ]
  },
  {
   "cell_type": "code",
   "execution_count": 20,
   "metadata": {},
   "outputs": [],
   "source": [
    "genres_list = list(genres_final['genres'].str.split(','))"
   ]
  },
  {
   "cell_type": "code",
   "execution_count": 21,
   "metadata": {},
   "outputs": [
    {
     "data": {
      "text/plain": [
       "list"
      ]
     },
     "execution_count": 21,
     "metadata": {},
     "output_type": "execute_result"
    }
   ],
   "source": [
    "type(genres_list)"
   ]
  },
  {
   "cell_type": "markdown",
   "metadata": {},
   "source": [
    "Updating a final list that only includes unique genres"
   ]
  },
  {
   "cell_type": "code",
   "execution_count": 22,
   "metadata": {},
   "outputs": [],
   "source": [
    "genre_list_final = []    \n",
    "\n",
    "for i in genres_list:\n",
    "    for genre in i:\n",
    "        if genre in genre_list_final:\n",
    "            continue\n",
    "        else:\n",
    "            genre_list_final.append(genre)"
   ]
  },
  {
   "cell_type": "code",
   "execution_count": 23,
   "metadata": {},
   "outputs": [
    {
     "data": {
      "text/plain": [
       "23"
      ]
     },
     "execution_count": 23,
     "metadata": {},
     "output_type": "execute_result"
    }
   ],
   "source": [
    "len(genre_list_final)"
   ]
  },
  {
   "cell_type": "markdown",
   "metadata": {},
   "source": [
    "### Create new columns in the dataframe for unique genres, then run a numpy where to mark the column as 1 for true, 0 for false if the movie is in that genre"
   ]
  },
  {
   "cell_type": "code",
   "execution_count": 24,
   "metadata": {},
   "outputs": [],
   "source": [
    "for genre in genre_list_final:\n",
    "   genres_final[genre] = 0"
   ]
  },
  {
   "cell_type": "code",
   "execution_count": 25,
   "metadata": {},
   "outputs": [
    {
     "data": {
      "text/html": [
       "<div>\n",
       "<style scoped>\n",
       "    .dataframe tbody tr th:only-of-type {\n",
       "        vertical-align: middle;\n",
       "    }\n",
       "\n",
       "    .dataframe tbody tr th {\n",
       "        vertical-align: top;\n",
       "    }\n",
       "\n",
       "    .dataframe thead th {\n",
       "        text-align: right;\n",
       "    }\n",
       "</style>\n",
       "<table border=\"1\" class=\"dataframe\">\n",
       "  <thead>\n",
       "    <tr style=\"text-align: right;\">\n",
       "      <th></th>\n",
       "      <th>primary_title</th>\n",
       "      <th>genres</th>\n",
       "      <th>perc_return</th>\n",
       "      <th>Horror</th>\n",
       "      <th>Mystery</th>\n",
       "      <th>Thriller</th>\n",
       "      <th>Biography</th>\n",
       "      <th>Documentary</th>\n",
       "      <th>Action</th>\n",
       "      <th>Comedy</th>\n",
       "      <th>...</th>\n",
       "      <th>Musical</th>\n",
       "      <th>Music</th>\n",
       "      <th>War</th>\n",
       "      <th>Adventure</th>\n",
       "      <th>Sport</th>\n",
       "      <th>Crime</th>\n",
       "      <th>Sci-Fi</th>\n",
       "      <th>Western</th>\n",
       "      <th>News</th>\n",
       "      <th>Reality-TV</th>\n",
       "    </tr>\n",
       "  </thead>\n",
       "  <tbody>\n",
       "    <tr>\n",
       "      <th>2306</th>\n",
       "      <td>The Gallows</td>\n",
       "      <td>Horror,Mystery,Thriller</td>\n",
       "      <td>41556.474000</td>\n",
       "      <td>0</td>\n",
       "      <td>0</td>\n",
       "      <td>0</td>\n",
       "      <td>0</td>\n",
       "      <td>0</td>\n",
       "      <td>0</td>\n",
       "      <td>0</td>\n",
       "      <td>...</td>\n",
       "      <td>0</td>\n",
       "      <td>0</td>\n",
       "      <td>0</td>\n",
       "      <td>0</td>\n",
       "      <td>0</td>\n",
       "      <td>0</td>\n",
       "      <td>0</td>\n",
       "      <td>0</td>\n",
       "      <td>0</td>\n",
       "      <td>0</td>\n",
       "    </tr>\n",
       "    <tr>\n",
       "      <th>2540</th>\n",
       "      <td>Bambi</td>\n",
       "      <td>Biography,Documentary</td>\n",
       "      <td>31135.431235</td>\n",
       "      <td>0</td>\n",
       "      <td>0</td>\n",
       "      <td>0</td>\n",
       "      <td>0</td>\n",
       "      <td>0</td>\n",
       "      <td>0</td>\n",
       "      <td>0</td>\n",
       "      <td>...</td>\n",
       "      <td>0</td>\n",
       "      <td>0</td>\n",
       "      <td>0</td>\n",
       "      <td>0</td>\n",
       "      <td>0</td>\n",
       "      <td>0</td>\n",
       "      <td>0</td>\n",
       "      <td>0</td>\n",
       "      <td>0</td>\n",
       "      <td>0</td>\n",
       "    </tr>\n",
       "    <tr>\n",
       "      <th>2789</th>\n",
       "      <td>Night of the Living Dead</td>\n",
       "      <td>Horror,Horror</td>\n",
       "      <td>26292.161404</td>\n",
       "      <td>0</td>\n",
       "      <td>0</td>\n",
       "      <td>0</td>\n",
       "      <td>0</td>\n",
       "      <td>0</td>\n",
       "      <td>0</td>\n",
       "      <td>0</td>\n",
       "      <td>...</td>\n",
       "      <td>0</td>\n",
       "      <td>0</td>\n",
       "      <td>0</td>\n",
       "      <td>0</td>\n",
       "      <td>0</td>\n",
       "      <td>0</td>\n",
       "      <td>0</td>\n",
       "      <td>0</td>\n",
       "      <td>0</td>\n",
       "      <td>0</td>\n",
       "    </tr>\n",
       "    <tr>\n",
       "      <th>2685</th>\n",
       "      <td>Rocky</td>\n",
       "      <td>Action,Comedy,Drama,Action,Drama,Romance</td>\n",
       "      <td>22400.000000</td>\n",
       "      <td>0</td>\n",
       "      <td>0</td>\n",
       "      <td>0</td>\n",
       "      <td>0</td>\n",
       "      <td>0</td>\n",
       "      <td>0</td>\n",
       "      <td>0</td>\n",
       "      <td>...</td>\n",
       "      <td>0</td>\n",
       "      <td>0</td>\n",
       "      <td>0</td>\n",
       "      <td>0</td>\n",
       "      <td>0</td>\n",
       "      <td>0</td>\n",
       "      <td>0</td>\n",
       "      <td>0</td>\n",
       "      <td>0</td>\n",
       "      <td>0</td>\n",
       "    </tr>\n",
       "    <tr>\n",
       "      <th>1065</th>\n",
       "      <td>Halloween</td>\n",
       "      <td>Horror,Thriller,Horror,Thriller,Horror,Thriller</td>\n",
       "      <td>21438.461538</td>\n",
       "      <td>0</td>\n",
       "      <td>0</td>\n",
       "      <td>0</td>\n",
       "      <td>0</td>\n",
       "      <td>0</td>\n",
       "      <td>0</td>\n",
       "      <td>0</td>\n",
       "      <td>...</td>\n",
       "      <td>0</td>\n",
       "      <td>0</td>\n",
       "      <td>0</td>\n",
       "      <td>0</td>\n",
       "      <td>0</td>\n",
       "      <td>0</td>\n",
       "      <td>0</td>\n",
       "      <td>0</td>\n",
       "      <td>0</td>\n",
       "      <td>0</td>\n",
       "    </tr>\n",
       "  </tbody>\n",
       "</table>\n",
       "<p>5 rows × 26 columns</p>\n",
       "</div>"
      ],
      "text/plain": [
       "                 primary_title  \\\n",
       "2306               The Gallows   \n",
       "2540                     Bambi   \n",
       "2789  Night of the Living Dead   \n",
       "2685                     Rocky   \n",
       "1065                 Halloween   \n",
       "\n",
       "                                               genres   perc_return  Horror  \\\n",
       "2306                          Horror,Mystery,Thriller  41556.474000       0   \n",
       "2540                            Biography,Documentary  31135.431235       0   \n",
       "2789                                    Horror,Horror  26292.161404       0   \n",
       "2685         Action,Comedy,Drama,Action,Drama,Romance  22400.000000       0   \n",
       "1065  Horror,Thriller,Horror,Thriller,Horror,Thriller  21438.461538       0   \n",
       "\n",
       "      Mystery  Thriller  Biography  Documentary  Action  Comedy  ...  Musical  \\\n",
       "2306        0         0          0            0       0       0  ...        0   \n",
       "2540        0         0          0            0       0       0  ...        0   \n",
       "2789        0         0          0            0       0       0  ...        0   \n",
       "2685        0         0          0            0       0       0  ...        0   \n",
       "1065        0         0          0            0       0       0  ...        0   \n",
       "\n",
       "      Music  War  Adventure  Sport  Crime  Sci-Fi  Western  News  Reality-TV  \n",
       "2306      0    0          0      0      0       0        0     0           0  \n",
       "2540      0    0          0      0      0       0        0     0           0  \n",
       "2789      0    0          0      0      0       0        0     0           0  \n",
       "2685      0    0          0      0      0       0        0     0           0  \n",
       "1065      0    0          0      0      0       0        0     0           0  \n",
       "\n",
       "[5 rows x 26 columns]"
      ]
     },
     "execution_count": 25,
     "metadata": {},
     "output_type": "execute_result"
    }
   ],
   "source": [
    "genres_final.head()"
   ]
  },
  {
   "cell_type": "markdown",
   "metadata": {},
   "source": [
    "Building a for loop based on the unique genre list to update each genre column with 0 or 1"
   ]
  },
  {
   "cell_type": "code",
   "execution_count": 26,
   "metadata": {},
   "outputs": [],
   "source": [
    "for genre in genre_list_final:\n",
    "    genres_final[genre] = np.where(genres_final.genres.str.contains(genre),1,0)"
   ]
  },
  {
   "cell_type": "code",
   "execution_count": 27,
   "metadata": {},
   "outputs": [
    {
     "data": {
      "text/html": [
       "<div>\n",
       "<style scoped>\n",
       "    .dataframe tbody tr th:only-of-type {\n",
       "        vertical-align: middle;\n",
       "    }\n",
       "\n",
       "    .dataframe tbody tr th {\n",
       "        vertical-align: top;\n",
       "    }\n",
       "\n",
       "    .dataframe thead th {\n",
       "        text-align: right;\n",
       "    }\n",
       "</style>\n",
       "<table border=\"1\" class=\"dataframe\">\n",
       "  <thead>\n",
       "    <tr style=\"text-align: right;\">\n",
       "      <th></th>\n",
       "      <th>primary_title</th>\n",
       "      <th>genres</th>\n",
       "      <th>perc_return</th>\n",
       "      <th>Horror</th>\n",
       "      <th>Mystery</th>\n",
       "      <th>Thriller</th>\n",
       "      <th>Biography</th>\n",
       "      <th>Documentary</th>\n",
       "      <th>Action</th>\n",
       "      <th>Comedy</th>\n",
       "      <th>...</th>\n",
       "      <th>Musical</th>\n",
       "      <th>Music</th>\n",
       "      <th>War</th>\n",
       "      <th>Adventure</th>\n",
       "      <th>Sport</th>\n",
       "      <th>Crime</th>\n",
       "      <th>Sci-Fi</th>\n",
       "      <th>Western</th>\n",
       "      <th>News</th>\n",
       "      <th>Reality-TV</th>\n",
       "    </tr>\n",
       "  </thead>\n",
       "  <tbody>\n",
       "    <tr>\n",
       "      <th>2306</th>\n",
       "      <td>The Gallows</td>\n",
       "      <td>Horror,Mystery,Thriller</td>\n",
       "      <td>41556.474000</td>\n",
       "      <td>1</td>\n",
       "      <td>1</td>\n",
       "      <td>1</td>\n",
       "      <td>0</td>\n",
       "      <td>0</td>\n",
       "      <td>0</td>\n",
       "      <td>0</td>\n",
       "      <td>...</td>\n",
       "      <td>0</td>\n",
       "      <td>0</td>\n",
       "      <td>0</td>\n",
       "      <td>0</td>\n",
       "      <td>0</td>\n",
       "      <td>0</td>\n",
       "      <td>0</td>\n",
       "      <td>0</td>\n",
       "      <td>0</td>\n",
       "      <td>0</td>\n",
       "    </tr>\n",
       "    <tr>\n",
       "      <th>2540</th>\n",
       "      <td>Bambi</td>\n",
       "      <td>Biography,Documentary</td>\n",
       "      <td>31135.431235</td>\n",
       "      <td>0</td>\n",
       "      <td>0</td>\n",
       "      <td>0</td>\n",
       "      <td>1</td>\n",
       "      <td>1</td>\n",
       "      <td>0</td>\n",
       "      <td>0</td>\n",
       "      <td>...</td>\n",
       "      <td>0</td>\n",
       "      <td>0</td>\n",
       "      <td>0</td>\n",
       "      <td>0</td>\n",
       "      <td>0</td>\n",
       "      <td>0</td>\n",
       "      <td>0</td>\n",
       "      <td>0</td>\n",
       "      <td>0</td>\n",
       "      <td>0</td>\n",
       "    </tr>\n",
       "    <tr>\n",
       "      <th>2789</th>\n",
       "      <td>Night of the Living Dead</td>\n",
       "      <td>Horror,Horror</td>\n",
       "      <td>26292.161404</td>\n",
       "      <td>1</td>\n",
       "      <td>0</td>\n",
       "      <td>0</td>\n",
       "      <td>0</td>\n",
       "      <td>0</td>\n",
       "      <td>0</td>\n",
       "      <td>0</td>\n",
       "      <td>...</td>\n",
       "      <td>0</td>\n",
       "      <td>0</td>\n",
       "      <td>0</td>\n",
       "      <td>0</td>\n",
       "      <td>0</td>\n",
       "      <td>0</td>\n",
       "      <td>0</td>\n",
       "      <td>0</td>\n",
       "      <td>0</td>\n",
       "      <td>0</td>\n",
       "    </tr>\n",
       "    <tr>\n",
       "      <th>2685</th>\n",
       "      <td>Rocky</td>\n",
       "      <td>Action,Comedy,Drama,Action,Drama,Romance</td>\n",
       "      <td>22400.000000</td>\n",
       "      <td>0</td>\n",
       "      <td>0</td>\n",
       "      <td>0</td>\n",
       "      <td>0</td>\n",
       "      <td>0</td>\n",
       "      <td>1</td>\n",
       "      <td>1</td>\n",
       "      <td>...</td>\n",
       "      <td>0</td>\n",
       "      <td>0</td>\n",
       "      <td>0</td>\n",
       "      <td>0</td>\n",
       "      <td>0</td>\n",
       "      <td>0</td>\n",
       "      <td>0</td>\n",
       "      <td>0</td>\n",
       "      <td>0</td>\n",
       "      <td>0</td>\n",
       "    </tr>\n",
       "    <tr>\n",
       "      <th>1065</th>\n",
       "      <td>Halloween</td>\n",
       "      <td>Horror,Thriller,Horror,Thriller,Horror,Thriller</td>\n",
       "      <td>21438.461538</td>\n",
       "      <td>1</td>\n",
       "      <td>0</td>\n",
       "      <td>1</td>\n",
       "      <td>0</td>\n",
       "      <td>0</td>\n",
       "      <td>0</td>\n",
       "      <td>0</td>\n",
       "      <td>...</td>\n",
       "      <td>0</td>\n",
       "      <td>0</td>\n",
       "      <td>0</td>\n",
       "      <td>0</td>\n",
       "      <td>0</td>\n",
       "      <td>0</td>\n",
       "      <td>0</td>\n",
       "      <td>0</td>\n",
       "      <td>0</td>\n",
       "      <td>0</td>\n",
       "    </tr>\n",
       "    <tr>\n",
       "      <th>...</th>\n",
       "      <td>...</td>\n",
       "      <td>...</td>\n",
       "      <td>...</td>\n",
       "      <td>...</td>\n",
       "      <td>...</td>\n",
       "      <td>...</td>\n",
       "      <td>...</td>\n",
       "      <td>...</td>\n",
       "      <td>...</td>\n",
       "      <td>...</td>\n",
       "      <td>...</td>\n",
       "      <td>...</td>\n",
       "      <td>...</td>\n",
       "      <td>...</td>\n",
       "      <td>...</td>\n",
       "      <td>...</td>\n",
       "      <td>...</td>\n",
       "      <td>...</td>\n",
       "      <td>...</td>\n",
       "      <td>...</td>\n",
       "      <td>...</td>\n",
       "    </tr>\n",
       "    <tr>\n",
       "      <th>2233</th>\n",
       "      <td>Aztec Warrior</td>\n",
       "      <td>Action,Comedy</td>\n",
       "      <td>-100.000000</td>\n",
       "      <td>0</td>\n",
       "      <td>0</td>\n",
       "      <td>0</td>\n",
       "      <td>0</td>\n",
       "      <td>0</td>\n",
       "      <td>1</td>\n",
       "      <td>1</td>\n",
       "      <td>...</td>\n",
       "      <td>0</td>\n",
       "      <td>0</td>\n",
       "      <td>0</td>\n",
       "      <td>0</td>\n",
       "      <td>0</td>\n",
       "      <td>0</td>\n",
       "      <td>0</td>\n",
       "      <td>0</td>\n",
       "      <td>0</td>\n",
       "      <td>0</td>\n",
       "    </tr>\n",
       "    <tr>\n",
       "      <th>2263</th>\n",
       "      <td>The Maid's Room</td>\n",
       "      <td>Thriller</td>\n",
       "      <td>-100.000000</td>\n",
       "      <td>0</td>\n",
       "      <td>0</td>\n",
       "      <td>1</td>\n",
       "      <td>0</td>\n",
       "      <td>0</td>\n",
       "      <td>0</td>\n",
       "      <td>0</td>\n",
       "      <td>...</td>\n",
       "      <td>0</td>\n",
       "      <td>0</td>\n",
       "      <td>0</td>\n",
       "      <td>0</td>\n",
       "      <td>0</td>\n",
       "      <td>0</td>\n",
       "      <td>0</td>\n",
       "      <td>0</td>\n",
       "      <td>0</td>\n",
       "      <td>0</td>\n",
       "    </tr>\n",
       "    <tr>\n",
       "      <th>2268</th>\n",
       "      <td>Forsaken</td>\n",
       "      <td>Action,Drama,Western,Adventure,Drama,Horror,Th...</td>\n",
       "      <td>-100.000000</td>\n",
       "      <td>1</td>\n",
       "      <td>0</td>\n",
       "      <td>1</td>\n",
       "      <td>0</td>\n",
       "      <td>0</td>\n",
       "      <td>1</td>\n",
       "      <td>0</td>\n",
       "      <td>...</td>\n",
       "      <td>0</td>\n",
       "      <td>0</td>\n",
       "      <td>0</td>\n",
       "      <td>1</td>\n",
       "      <td>0</td>\n",
       "      <td>0</td>\n",
       "      <td>0</td>\n",
       "      <td>1</td>\n",
       "      <td>0</td>\n",
       "      <td>0</td>\n",
       "    </tr>\n",
       "    <tr>\n",
       "      <th>3204</th>\n",
       "      <td>Bright</td>\n",
       "      <td>Action,Crime,Fantasy</td>\n",
       "      <td>-100.000000</td>\n",
       "      <td>0</td>\n",
       "      <td>0</td>\n",
       "      <td>0</td>\n",
       "      <td>0</td>\n",
       "      <td>0</td>\n",
       "      <td>1</td>\n",
       "      <td>0</td>\n",
       "      <td>...</td>\n",
       "      <td>0</td>\n",
       "      <td>0</td>\n",
       "      <td>0</td>\n",
       "      <td>0</td>\n",
       "      <td>0</td>\n",
       "      <td>1</td>\n",
       "      <td>0</td>\n",
       "      <td>0</td>\n",
       "      <td>0</td>\n",
       "      <td>0</td>\n",
       "    </tr>\n",
       "    <tr>\n",
       "      <th>3443</th>\n",
       "      <td>Sublime</td>\n",
       "      <td>Documentary</td>\n",
       "      <td>-100.000000</td>\n",
       "      <td>0</td>\n",
       "      <td>0</td>\n",
       "      <td>0</td>\n",
       "      <td>0</td>\n",
       "      <td>1</td>\n",
       "      <td>0</td>\n",
       "      <td>0</td>\n",
       "      <td>...</td>\n",
       "      <td>0</td>\n",
       "      <td>0</td>\n",
       "      <td>0</td>\n",
       "      <td>0</td>\n",
       "      <td>0</td>\n",
       "      <td>0</td>\n",
       "      <td>0</td>\n",
       "      <td>0</td>\n",
       "      <td>0</td>\n",
       "      <td>0</td>\n",
       "    </tr>\n",
       "  </tbody>\n",
       "</table>\n",
       "<p>2263 rows × 26 columns</p>\n",
       "</div>"
      ],
      "text/plain": [
       "                 primary_title  \\\n",
       "2306               The Gallows   \n",
       "2540                     Bambi   \n",
       "2789  Night of the Living Dead   \n",
       "2685                     Rocky   \n",
       "1065                 Halloween   \n",
       "...                        ...   \n",
       "2233             Aztec Warrior   \n",
       "2263           The Maid's Room   \n",
       "2268                  Forsaken   \n",
       "3204                    Bright   \n",
       "3443                   Sublime   \n",
       "\n",
       "                                                 genres   perc_return  Horror  \\\n",
       "2306                            Horror,Mystery,Thriller  41556.474000       1   \n",
       "2540                              Biography,Documentary  31135.431235       0   \n",
       "2789                                      Horror,Horror  26292.161404       1   \n",
       "2685           Action,Comedy,Drama,Action,Drama,Romance  22400.000000       0   \n",
       "1065    Horror,Thriller,Horror,Thriller,Horror,Thriller  21438.461538       1   \n",
       "...                                                 ...           ...     ...   \n",
       "2233                                      Action,Comedy   -100.000000       0   \n",
       "2263                                           Thriller   -100.000000       0   \n",
       "2268  Action,Drama,Western,Adventure,Drama,Horror,Th...   -100.000000       1   \n",
       "3204                               Action,Crime,Fantasy   -100.000000       0   \n",
       "3443                                        Documentary   -100.000000       0   \n",
       "\n",
       "      Mystery  Thriller  Biography  Documentary  Action  Comedy  ...  Musical  \\\n",
       "2306        1         1          0            0       0       0  ...        0   \n",
       "2540        0         0          1            1       0       0  ...        0   \n",
       "2789        0         0          0            0       0       0  ...        0   \n",
       "2685        0         0          0            0       1       1  ...        0   \n",
       "1065        0         1          0            0       0       0  ...        0   \n",
       "...       ...       ...        ...          ...     ...     ...  ...      ...   \n",
       "2233        0         0          0            0       1       1  ...        0   \n",
       "2263        0         1          0            0       0       0  ...        0   \n",
       "2268        0         1          0            0       1       0  ...        0   \n",
       "3204        0         0          0            0       1       0  ...        0   \n",
       "3443        0         0          0            1       0       0  ...        0   \n",
       "\n",
       "      Music  War  Adventure  Sport  Crime  Sci-Fi  Western  News  Reality-TV  \n",
       "2306      0    0          0      0      0       0        0     0           0  \n",
       "2540      0    0          0      0      0       0        0     0           0  \n",
       "2789      0    0          0      0      0       0        0     0           0  \n",
       "2685      0    0          0      0      0       0        0     0           0  \n",
       "1065      0    0          0      0      0       0        0     0           0  \n",
       "...     ...  ...        ...    ...    ...     ...      ...   ...         ...  \n",
       "2233      0    0          0      0      0       0        0     0           0  \n",
       "2263      0    0          0      0      0       0        0     0           0  \n",
       "2268      0    0          1      0      0       0        1     0           0  \n",
       "3204      0    0          0      0      1       0        0     0           0  \n",
       "3443      0    0          0      0      0       0        0     0           0  \n",
       "\n",
       "[2263 rows x 26 columns]"
      ]
     },
     "execution_count": 27,
     "metadata": {},
     "output_type": "execute_result"
    }
   ],
   "source": [
    "genres_final"
   ]
  },
  {
   "cell_type": "markdown",
   "metadata": {},
   "source": [
    "### With the Boolean columns, Create a new dataframe that stores the count of movies with that genre, and the average ROI for that genre"
   ]
  },
  {
   "cell_type": "markdown",
   "metadata": {},
   "source": [
    "First, create dictionary that stores the count and average ROI in a dictionary under the key with the name of the given genre"
   ]
  },
  {
   "cell_type": "code",
   "execution_count": 31,
   "metadata": {},
   "outputs": [],
   "source": [
    "genre_dict = {}\n",
    "\n",
    "for genre in genre_list_final:\n",
    "    genre_dict[genre] = {'genre_count':genres_final[genre].sum().astype(int),\n",
    "                         'genre_avg_roi':np.array(genres_final.groupby(genre).perc_return.mean())[1]}"
   ]
  },
  {
   "cell_type": "code",
   "execution_count": 32,
   "metadata": {},
   "outputs": [
    {
     "data": {
      "text/plain": [
       "numpy.float64"
      ]
     },
     "execution_count": 32,
     "metadata": {},
     "output_type": "execute_result"
    }
   ],
   "source": [
    "type(genre_dict['Biography']['genre_avg_roi'])"
   ]
  },
  {
   "cell_type": "markdown",
   "metadata": {},
   "source": [
    "Confirm dictionary worked"
   ]
  },
  {
   "cell_type": "code",
   "execution_count": 33,
   "metadata": {},
   "outputs": [
    {
     "data": {
      "text/plain": [
       "{'Horror': {'genre_count': 359, 'genre_avg_roi': 715.442614832116},\n",
       " 'Mystery': {'genre_count': 216, 'genre_avg_roi': 605.3195479331259},\n",
       " 'Thriller': {'genre_count': 482, 'genre_avg_roi': 438.80175206268075},\n",
       " 'Biography': {'genre_count': 230, 'genre_avg_roi': 401.15022199228173},\n",
       " 'Documentary': {'genre_count': 344, 'genre_avg_roi': 278.8158688486792},\n",
       " 'Action': {'genre_count': 626, 'genre_avg_roi': 211.20039452685313},\n",
       " 'Comedy': {'genre_count': 727, 'genre_avg_roi': 281.3488120142727},\n",
       " 'Drama': {'genre_count': 1222, 'genre_avg_roi': 243.19871920026168},\n",
       " 'Romance': {'genre_count': 304, 'genre_avg_roi': 290.5038460962458},\n",
       " 'Animation': {'genre_count': 128, 'genre_avg_roi': 448.6831573006716},\n",
       " 'Family': {'genre_count': 175, 'genre_avg_roi': 409.55690131189965},\n",
       " 'Fantasy': {'genre_count': 176, 'genre_avg_roi': 376.6501954577214},\n",
       " 'History': {'genre_count': 80, 'genre_avg_roi': 334.61609840723816},\n",
       " 'Musical': {'genre_count': 29, 'genre_avg_roi': 677.130731841542},\n",
       " 'Music': {'genre_count': 104, 'genre_avg_roi': 336.4145981785049},\n",
       " 'War': {'genre_count': 41, 'genre_avg_roi': 336.12330894156753},\n",
       " 'Adventure': {'genre_count': 461, 'genre_avg_roi': 210.19500405452928},\n",
       " 'Sport': {'genre_count': 69, 'genre_avg_roi': 254.56743453624352},\n",
       " 'Crime': {'genre_count': 353, 'genre_avg_roi': 130.8179681971374},\n",
       " 'Sci-Fi': {'genre_count': 209, 'genre_avg_roi': 202.55666255405853},\n",
       " 'Western': {'genre_count': 24, 'genre_avg_roi': 38.949819002051996},\n",
       " 'News': {'genre_count': 6, 'genre_avg_roi': 24.184002417757426},\n",
       " 'Reality-TV': {'genre_count': 1, 'genre_avg_roi': -100.0}}"
      ]
     },
     "execution_count": 33,
     "metadata": {},
     "output_type": "execute_result"
    }
   ],
   "source": [
    "genre_dict"
   ]
  },
  {
   "cell_type": "markdown",
   "metadata": {},
   "source": [
    "Make a dataframe of the 444 movies that have a worldwide gross that would place them in the top 1000"
   ]
  },
  {
   "cell_type": "code",
   "execution_count": 34,
   "metadata": {},
   "outputs": [],
   "source": [
    "top_films = pd.DataFrame.from_dict(genre_dict)"
   ]
  },
  {
   "cell_type": "code",
   "execution_count": 35,
   "metadata": {},
   "outputs": [
    {
     "data": {
      "text/html": [
       "<div>\n",
       "<style scoped>\n",
       "    .dataframe tbody tr th:only-of-type {\n",
       "        vertical-align: middle;\n",
       "    }\n",
       "\n",
       "    .dataframe tbody tr th {\n",
       "        vertical-align: top;\n",
       "    }\n",
       "\n",
       "    .dataframe thead th {\n",
       "        text-align: right;\n",
       "    }\n",
       "</style>\n",
       "<table border=\"1\" class=\"dataframe\">\n",
       "  <thead>\n",
       "    <tr style=\"text-align: right;\">\n",
       "      <th></th>\n",
       "      <th>Horror</th>\n",
       "      <th>Mystery</th>\n",
       "      <th>Thriller</th>\n",
       "      <th>Biography</th>\n",
       "      <th>Documentary</th>\n",
       "      <th>Action</th>\n",
       "      <th>Comedy</th>\n",
       "      <th>Drama</th>\n",
       "      <th>Romance</th>\n",
       "      <th>Animation</th>\n",
       "      <th>...</th>\n",
       "      <th>Musical</th>\n",
       "      <th>Music</th>\n",
       "      <th>War</th>\n",
       "      <th>Adventure</th>\n",
       "      <th>Sport</th>\n",
       "      <th>Crime</th>\n",
       "      <th>Sci-Fi</th>\n",
       "      <th>Western</th>\n",
       "      <th>News</th>\n",
       "      <th>Reality-TV</th>\n",
       "    </tr>\n",
       "  </thead>\n",
       "  <tbody>\n",
       "    <tr>\n",
       "      <th>genre_count</th>\n",
       "      <td>359.000000</td>\n",
       "      <td>216.000000</td>\n",
       "      <td>482.000000</td>\n",
       "      <td>230.000000</td>\n",
       "      <td>344.000000</td>\n",
       "      <td>626.000000</td>\n",
       "      <td>727.000000</td>\n",
       "      <td>1222.000000</td>\n",
       "      <td>304.000000</td>\n",
       "      <td>128.000000</td>\n",
       "      <td>...</td>\n",
       "      <td>29.000000</td>\n",
       "      <td>104.000000</td>\n",
       "      <td>41.000000</td>\n",
       "      <td>461.000000</td>\n",
       "      <td>69.000000</td>\n",
       "      <td>353.000000</td>\n",
       "      <td>209.000000</td>\n",
       "      <td>24.000000</td>\n",
       "      <td>6.000000</td>\n",
       "      <td>1.0</td>\n",
       "    </tr>\n",
       "    <tr>\n",
       "      <th>genre_avg_roi</th>\n",
       "      <td>715.442615</td>\n",
       "      <td>605.319548</td>\n",
       "      <td>438.801752</td>\n",
       "      <td>401.150222</td>\n",
       "      <td>278.815869</td>\n",
       "      <td>211.200395</td>\n",
       "      <td>281.348812</td>\n",
       "      <td>243.198719</td>\n",
       "      <td>290.503846</td>\n",
       "      <td>448.683157</td>\n",
       "      <td>...</td>\n",
       "      <td>677.130732</td>\n",
       "      <td>336.414598</td>\n",
       "      <td>336.123309</td>\n",
       "      <td>210.195004</td>\n",
       "      <td>254.567435</td>\n",
       "      <td>130.817968</td>\n",
       "      <td>202.556663</td>\n",
       "      <td>38.949819</td>\n",
       "      <td>24.184002</td>\n",
       "      <td>-100.0</td>\n",
       "    </tr>\n",
       "  </tbody>\n",
       "</table>\n",
       "<p>2 rows × 23 columns</p>\n",
       "</div>"
      ],
      "text/plain": [
       "                   Horror     Mystery    Thriller   Biography  Documentary  \\\n",
       "genre_count    359.000000  216.000000  482.000000  230.000000   344.000000   \n",
       "genre_avg_roi  715.442615  605.319548  438.801752  401.150222   278.815869   \n",
       "\n",
       "                   Action      Comedy        Drama     Romance   Animation  \\\n",
       "genre_count    626.000000  727.000000  1222.000000  304.000000  128.000000   \n",
       "genre_avg_roi  211.200395  281.348812   243.198719  290.503846  448.683157   \n",
       "\n",
       "               ...     Musical       Music         War   Adventure  \\\n",
       "genre_count    ...   29.000000  104.000000   41.000000  461.000000   \n",
       "genre_avg_roi  ...  677.130732  336.414598  336.123309  210.195004   \n",
       "\n",
       "                    Sport       Crime      Sci-Fi    Western       News  \\\n",
       "genre_count     69.000000  353.000000  209.000000  24.000000   6.000000   \n",
       "genre_avg_roi  254.567435  130.817968  202.556663  38.949819  24.184002   \n",
       "\n",
       "               Reality-TV  \n",
       "genre_count           1.0  \n",
       "genre_avg_roi      -100.0  \n",
       "\n",
       "[2 rows x 23 columns]"
      ]
     },
     "execution_count": 35,
     "metadata": {},
     "output_type": "execute_result"
    }
   ],
   "source": [
    "top_films.head()"
   ]
  },
  {
   "cell_type": "markdown",
   "metadata": {},
   "source": [
    "Transpose the dataframe to get the genre names as a column of genres, vs as the columns"
   ]
  },
  {
   "cell_type": "code",
   "execution_count": 36,
   "metadata": {},
   "outputs": [],
   "source": [
    "top_films = top_films.transpose()"
   ]
  },
  {
   "cell_type": "code",
   "execution_count": 37,
   "metadata": {},
   "outputs": [
    {
     "data": {
      "text/html": [
       "<div>\n",
       "<style scoped>\n",
       "    .dataframe tbody tr th:only-of-type {\n",
       "        vertical-align: middle;\n",
       "    }\n",
       "\n",
       "    .dataframe tbody tr th {\n",
       "        vertical-align: top;\n",
       "    }\n",
       "\n",
       "    .dataframe thead th {\n",
       "        text-align: right;\n",
       "    }\n",
       "</style>\n",
       "<table border=\"1\" class=\"dataframe\">\n",
       "  <thead>\n",
       "    <tr style=\"text-align: right;\">\n",
       "      <th></th>\n",
       "      <th>genre_count</th>\n",
       "      <th>genre_avg_roi</th>\n",
       "    </tr>\n",
       "  </thead>\n",
       "  <tbody>\n",
       "    <tr>\n",
       "      <th>Horror</th>\n",
       "      <td>359.0</td>\n",
       "      <td>715.442615</td>\n",
       "    </tr>\n",
       "    <tr>\n",
       "      <th>Mystery</th>\n",
       "      <td>216.0</td>\n",
       "      <td>605.319548</td>\n",
       "    </tr>\n",
       "    <tr>\n",
       "      <th>Thriller</th>\n",
       "      <td>482.0</td>\n",
       "      <td>438.801752</td>\n",
       "    </tr>\n",
       "    <tr>\n",
       "      <th>Biography</th>\n",
       "      <td>230.0</td>\n",
       "      <td>401.150222</td>\n",
       "    </tr>\n",
       "    <tr>\n",
       "      <th>Documentary</th>\n",
       "      <td>344.0</td>\n",
       "      <td>278.815869</td>\n",
       "    </tr>\n",
       "  </tbody>\n",
       "</table>\n",
       "</div>"
      ],
      "text/plain": [
       "             genre_count  genre_avg_roi\n",
       "Horror             359.0     715.442615\n",
       "Mystery            216.0     605.319548\n",
       "Thriller           482.0     438.801752\n",
       "Biography          230.0     401.150222\n",
       "Documentary        344.0     278.815869"
      ]
     },
     "execution_count": 37,
     "metadata": {},
     "output_type": "execute_result"
    }
   ],
   "source": [
    "top_films.head()"
   ]
  },
  {
   "cell_type": "code",
   "execution_count": 38,
   "metadata": {},
   "outputs": [],
   "source": [
    "top_genres = top_films.sort_values(by='genre_count',\n",
    "                   ascending=False,\n",
    "                   inplace=False)"
   ]
  },
  {
   "cell_type": "markdown",
   "metadata": {},
   "source": [
    "reset the index so the genres. can be used as categories for a bar chart"
   ]
  },
  {
   "cell_type": "code",
   "execution_count": 39,
   "metadata": {},
   "outputs": [],
   "source": [
    "top_genres.reset_index(inplace=True)"
   ]
  },
  {
   "cell_type": "code",
   "execution_count": 40,
   "metadata": {},
   "outputs": [],
   "source": [
    "top_genres.rename(columns={'index': 'genre'}, inplace=True)"
   ]
  },
  {
   "cell_type": "code",
   "execution_count": 41,
   "metadata": {},
   "outputs": [
    {
     "data": {
      "text/html": [
       "<div>\n",
       "<style scoped>\n",
       "    .dataframe tbody tr th:only-of-type {\n",
       "        vertical-align: middle;\n",
       "    }\n",
       "\n",
       "    .dataframe tbody tr th {\n",
       "        vertical-align: top;\n",
       "    }\n",
       "\n",
       "    .dataframe thead th {\n",
       "        text-align: right;\n",
       "    }\n",
       "</style>\n",
       "<table border=\"1\" class=\"dataframe\">\n",
       "  <thead>\n",
       "    <tr style=\"text-align: right;\">\n",
       "      <th></th>\n",
       "      <th>genre</th>\n",
       "      <th>genre_count</th>\n",
       "      <th>genre_avg_roi</th>\n",
       "    </tr>\n",
       "  </thead>\n",
       "  <tbody>\n",
       "    <tr>\n",
       "      <th>0</th>\n",
       "      <td>Drama</td>\n",
       "      <td>1222.0</td>\n",
       "      <td>243.198719</td>\n",
       "    </tr>\n",
       "    <tr>\n",
       "      <th>1</th>\n",
       "      <td>Comedy</td>\n",
       "      <td>727.0</td>\n",
       "      <td>281.348812</td>\n",
       "    </tr>\n",
       "    <tr>\n",
       "      <th>2</th>\n",
       "      <td>Action</td>\n",
       "      <td>626.0</td>\n",
       "      <td>211.200395</td>\n",
       "    </tr>\n",
       "    <tr>\n",
       "      <th>3</th>\n",
       "      <td>Thriller</td>\n",
       "      <td>482.0</td>\n",
       "      <td>438.801752</td>\n",
       "    </tr>\n",
       "    <tr>\n",
       "      <th>4</th>\n",
       "      <td>Adventure</td>\n",
       "      <td>461.0</td>\n",
       "      <td>210.195004</td>\n",
       "    </tr>\n",
       "    <tr>\n",
       "      <th>5</th>\n",
       "      <td>Horror</td>\n",
       "      <td>359.0</td>\n",
       "      <td>715.442615</td>\n",
       "    </tr>\n",
       "    <tr>\n",
       "      <th>6</th>\n",
       "      <td>Crime</td>\n",
       "      <td>353.0</td>\n",
       "      <td>130.817968</td>\n",
       "    </tr>\n",
       "    <tr>\n",
       "      <th>7</th>\n",
       "      <td>Documentary</td>\n",
       "      <td>344.0</td>\n",
       "      <td>278.815869</td>\n",
       "    </tr>\n",
       "    <tr>\n",
       "      <th>8</th>\n",
       "      <td>Romance</td>\n",
       "      <td>304.0</td>\n",
       "      <td>290.503846</td>\n",
       "    </tr>\n",
       "    <tr>\n",
       "      <th>9</th>\n",
       "      <td>Biography</td>\n",
       "      <td>230.0</td>\n",
       "      <td>401.150222</td>\n",
       "    </tr>\n",
       "    <tr>\n",
       "      <th>10</th>\n",
       "      <td>Mystery</td>\n",
       "      <td>216.0</td>\n",
       "      <td>605.319548</td>\n",
       "    </tr>\n",
       "    <tr>\n",
       "      <th>11</th>\n",
       "      <td>Sci-Fi</td>\n",
       "      <td>209.0</td>\n",
       "      <td>202.556663</td>\n",
       "    </tr>\n",
       "    <tr>\n",
       "      <th>12</th>\n",
       "      <td>Fantasy</td>\n",
       "      <td>176.0</td>\n",
       "      <td>376.650195</td>\n",
       "    </tr>\n",
       "    <tr>\n",
       "      <th>13</th>\n",
       "      <td>Family</td>\n",
       "      <td>175.0</td>\n",
       "      <td>409.556901</td>\n",
       "    </tr>\n",
       "    <tr>\n",
       "      <th>14</th>\n",
       "      <td>Animation</td>\n",
       "      <td>128.0</td>\n",
       "      <td>448.683157</td>\n",
       "    </tr>\n",
       "    <tr>\n",
       "      <th>15</th>\n",
       "      <td>Music</td>\n",
       "      <td>104.0</td>\n",
       "      <td>336.414598</td>\n",
       "    </tr>\n",
       "    <tr>\n",
       "      <th>16</th>\n",
       "      <td>History</td>\n",
       "      <td>80.0</td>\n",
       "      <td>334.616098</td>\n",
       "    </tr>\n",
       "    <tr>\n",
       "      <th>17</th>\n",
       "      <td>Sport</td>\n",
       "      <td>69.0</td>\n",
       "      <td>254.567435</td>\n",
       "    </tr>\n",
       "    <tr>\n",
       "      <th>18</th>\n",
       "      <td>War</td>\n",
       "      <td>41.0</td>\n",
       "      <td>336.123309</td>\n",
       "    </tr>\n",
       "    <tr>\n",
       "      <th>19</th>\n",
       "      <td>Musical</td>\n",
       "      <td>29.0</td>\n",
       "      <td>677.130732</td>\n",
       "    </tr>\n",
       "    <tr>\n",
       "      <th>20</th>\n",
       "      <td>Western</td>\n",
       "      <td>24.0</td>\n",
       "      <td>38.949819</td>\n",
       "    </tr>\n",
       "    <tr>\n",
       "      <th>21</th>\n",
       "      <td>News</td>\n",
       "      <td>6.0</td>\n",
       "      <td>24.184002</td>\n",
       "    </tr>\n",
       "    <tr>\n",
       "      <th>22</th>\n",
       "      <td>Reality-TV</td>\n",
       "      <td>1.0</td>\n",
       "      <td>-100.000000</td>\n",
       "    </tr>\n",
       "  </tbody>\n",
       "</table>\n",
       "</div>"
      ],
      "text/plain": [
       "          genre  genre_count  genre_avg_roi\n",
       "0         Drama       1222.0     243.198719\n",
       "1        Comedy        727.0     281.348812\n",
       "2        Action        626.0     211.200395\n",
       "3      Thriller        482.0     438.801752\n",
       "4     Adventure        461.0     210.195004\n",
       "5        Horror        359.0     715.442615\n",
       "6         Crime        353.0     130.817968\n",
       "7   Documentary        344.0     278.815869\n",
       "8       Romance        304.0     290.503846\n",
       "9     Biography        230.0     401.150222\n",
       "10      Mystery        216.0     605.319548\n",
       "11       Sci-Fi        209.0     202.556663\n",
       "12      Fantasy        176.0     376.650195\n",
       "13       Family        175.0     409.556901\n",
       "14    Animation        128.0     448.683157\n",
       "15        Music        104.0     336.414598\n",
       "16      History         80.0     334.616098\n",
       "17        Sport         69.0     254.567435\n",
       "18          War         41.0     336.123309\n",
       "19      Musical         29.0     677.130732\n",
       "20      Western         24.0      38.949819\n",
       "21         News          6.0      24.184002\n",
       "22   Reality-TV          1.0    -100.000000"
      ]
     },
     "execution_count": 41,
     "metadata": {},
     "output_type": "execute_result"
    }
   ],
   "source": [
    "top_genres"
   ]
  },
  {
   "cell_type": "markdown",
   "metadata": {},
   "source": [
    "### Visualization"
   ]
  },
  {
   "cell_type": "code",
   "execution_count": 42,
   "metadata": {},
   "outputs": [],
   "source": [
    "top_genres = top_genres.sort_values(by='genre_avg_roi',\n",
    "                   ascending=False,\n",
    "                   inplace=False)"
   ]
  },
  {
   "cell_type": "code",
   "execution_count": 43,
   "metadata": {},
   "outputs": [
    {
     "data": {
      "text/plain": [
       "Text(0, 0.5, '% ROI')"
      ]
     },
     "execution_count": 43,
     "metadata": {},
     "output_type": "execute_result"
    },
    {
     "data": {
      "image/png": "[encoded data removed]",
      "text/plain": [
       "<Figure size 1800x720 with 1 Axes>"
      ]
     },
     "metadata": {},
     "output_type": "display_data"
    }
   ],
   "source": [
    "sns.set(style=\"white\")\n",
    "\n",
    "sns.color_palette(\"rocket\")\n",
    "\n",
    "sns.set(rc = {'figure.figsize':(25,10)})\n",
    "\n",
    "#create stacked bar chart\n",
    "plot2 = top_genres.head(20).set_index('genre').plot(kind='bar', y='genre_avg_roi', stacked=False, legend=False)\n",
    "\n",
    "#add overall title\n",
    "plt.title('Box Office Hits - Average ROI by Genre', fontsize=50, pad=30)\n",
    "plt.grid(False)\n",
    "\n",
    "#update y axis from scientific notation\n",
    "plot2.yaxis.set_major_formatter(mtick.PercentFormatter())\n",
    "\n",
    "#add axis titles\n",
    "plt.xticks(rotation=45, fontsize=20)\n",
    "plt.yticks(fontsize=20)\n",
    "plt.xlabel('Genres', fontsize=30, labelpad=20)\n",
    "plt.ylabel('% ROI', fontsize=30,  labelpad=20)"
   ]
  },
  {
   "cell_type": "markdown",
   "metadata": {},
   "source": [
    "### Findings"
   ]
  },
  {
   "cell_type": "markdown",
   "metadata": {},
   "source": [
    "If the studio wanted to produce a movie in a genre that would lead to the best ROI. As a new studio, movies that can create a strong return may be more important to demonstrate the studio's viability to Mr. Gates.\n",
    "\n",
    "If so, movies that don't require a large budget, like a horror, mystery, or musical may be the better option.\n",
    "\n",
    "With these visualizations, it's important to note that they all had massive appeal, as they come from a dataset of films that did very well, so no matter the choice of genre, it's important to make a good film the public will enjoy. \n",
    "\n",
    "How you select your actors and your directors will play a very big role in how any movie in any genre will perform."
   ]
  },
  {
   "cell_type": "markdown",
   "metadata": {},
   "source": [
    "# Alvaro Section - ID the best actors and directors to use for your films based on the historical profit from their films"
   ]
  },
  {
   "cell_type": "markdown",
   "metadata": {},
   "source": [
    "# Directors SQL"
   ]
  },
  {
   "cell_type": "markdown",
   "metadata": {},
   "source": [
    "Use SQL query to join tables by primary and foreign keys. This new comprehensive dataframe contains indentifying data regarding directors."
   ]
  },
  {
   "cell_type": "code",
   "execution_count": 44,
   "metadata": {},
   "outputs": [
    {
     "data": {
      "text/html": [
       "<div>\n",
       "<style scoped>\n",
       "    .dataframe tbody tr th:only-of-type {\n",
       "        vertical-align: middle;\n",
       "    }\n",
       "\n",
       "    .dataframe tbody tr th {\n",
       "        vertical-align: top;\n",
       "    }\n",
       "\n",
       "    .dataframe thead th {\n",
       "        text-align: right;\n",
       "    }\n",
       "</style>\n",
       "<table border=\"1\" class=\"dataframe\">\n",
       "  <thead>\n",
       "    <tr style=\"text-align: right;\">\n",
       "      <th></th>\n",
       "      <th>category</th>\n",
       "      <th>person_id</th>\n",
       "      <th>movie_id</th>\n",
       "      <th>primary_name</th>\n",
       "      <th>primary_title</th>\n",
       "    </tr>\n",
       "  </thead>\n",
       "  <tbody>\n",
       "    <tr>\n",
       "      <th>0</th>\n",
       "      <td>director</td>\n",
       "      <td>nm0398271</td>\n",
       "      <td>tt0111414</td>\n",
       "      <td>Frank Howson</td>\n",
       "      <td>A Thin Life</td>\n",
       "    </tr>\n",
       "    <tr>\n",
       "      <th>1</th>\n",
       "      <td>director</td>\n",
       "      <td>nm0362736</td>\n",
       "      <td>tt0323808</td>\n",
       "      <td>Robin Hardy</td>\n",
       "      <td>The Wicker Tree</td>\n",
       "    </tr>\n",
       "    <tr>\n",
       "      <th>2</th>\n",
       "      <td>director</td>\n",
       "      <td>nm1145057</td>\n",
       "      <td>tt0417610</td>\n",
       "      <td>Alejandro Chomski</td>\n",
       "      <td>Asleep in the Sun</td>\n",
       "    </tr>\n",
       "    <tr>\n",
       "      <th>3</th>\n",
       "      <td>director</td>\n",
       "      <td>nm0707738</td>\n",
       "      <td>tt0469152</td>\n",
       "      <td>Alyssa R. Bennett</td>\n",
       "      <td>Smoking/Non-Smoking</td>\n",
       "    </tr>\n",
       "    <tr>\n",
       "      <th>4</th>\n",
       "      <td>director</td>\n",
       "      <td>nm0776090</td>\n",
       "      <td>tt0473032</td>\n",
       "      <td>J. Neil Schulman</td>\n",
       "      <td>Escape from Heaven</td>\n",
       "    </tr>\n",
       "    <tr>\n",
       "      <th>...</th>\n",
       "      <td>...</td>\n",
       "      <td>...</td>\n",
       "      <td>...</td>\n",
       "      <td>...</td>\n",
       "      <td>...</td>\n",
       "    </tr>\n",
       "    <tr>\n",
       "      <th>146388</th>\n",
       "      <td>director</td>\n",
       "      <td>nm9728620</td>\n",
       "      <td>tt9679036</td>\n",
       "      <td>Julia Beney</td>\n",
       "      <td>A Girl, a Boy, a Penny and a Very, Very, Very ...</td>\n",
       "    </tr>\n",
       "    <tr>\n",
       "      <th>146389</th>\n",
       "      <td>director</td>\n",
       "      <td>nm10436661</td>\n",
       "      <td>tt9681728</td>\n",
       "      <td>Alexander Zolotukhin</td>\n",
       "      <td>A Russian Youth</td>\n",
       "    </tr>\n",
       "    <tr>\n",
       "      <th>146390</th>\n",
       "      <td>director</td>\n",
       "      <td>nm9652770</td>\n",
       "      <td>tt9689618</td>\n",
       "      <td>Xavi Herrero</td>\n",
       "      <td>Moonface. A woman in the war.</td>\n",
       "    </tr>\n",
       "    <tr>\n",
       "      <th>146391</th>\n",
       "      <td>director</td>\n",
       "      <td>nm10439725</td>\n",
       "      <td>tt9689618</td>\n",
       "      <td>Xavi Herrero</td>\n",
       "      <td>Moonface. A woman in the war.</td>\n",
       "    </tr>\n",
       "    <tr>\n",
       "      <th>146392</th>\n",
       "      <td>director</td>\n",
       "      <td>nm10441594</td>\n",
       "      <td>tt9692684</td>\n",
       "      <td>Guy Jones</td>\n",
       "      <td>Disnatured</td>\n",
       "    </tr>\n",
       "  </tbody>\n",
       "</table>\n",
       "<p>146393 rows × 5 columns</p>\n",
       "</div>"
      ],
      "text/plain": [
       "        category   person_id   movie_id          primary_name  \\\n",
       "0       director   nm0398271  tt0111414          Frank Howson   \n",
       "1       director   nm0362736  tt0323808           Robin Hardy   \n",
       "2       director   nm1145057  tt0417610     Alejandro Chomski   \n",
       "3       director   nm0707738  tt0469152     Alyssa R. Bennett   \n",
       "4       director   nm0776090  tt0473032      J. Neil Schulman   \n",
       "...          ...         ...        ...                   ...   \n",
       "146388  director   nm9728620  tt9679036           Julia Beney   \n",
       "146389  director  nm10436661  tt9681728  Alexander Zolotukhin   \n",
       "146390  director   nm9652770  tt9689618          Xavi Herrero   \n",
       "146391  director  nm10439725  tt9689618          Xavi Herrero   \n",
       "146392  director  nm10441594  tt9692684             Guy Jones   \n",
       "\n",
       "                                            primary_title  \n",
       "0                                             A Thin Life  \n",
       "1                                         The Wicker Tree  \n",
       "2                                       Asleep in the Sun  \n",
       "3                                     Smoking/Non-Smoking  \n",
       "4                                      Escape from Heaven  \n",
       "...                                                   ...  \n",
       "146388  A Girl, a Boy, a Penny and a Very, Very, Very ...  \n",
       "146389                                    A Russian Youth  \n",
       "146390                      Moonface. A woman in the war.  \n",
       "146391                      Moonface. A woman in the war.  \n",
       "146392                                         Disnatured  \n",
       "\n",
       "[146393 rows x 5 columns]"
      ]
     },
     "execution_count": 44,
     "metadata": {},
     "output_type": "execute_result"
    }
   ],
   "source": [
    "directors_df = pd.read_sql('''\n",
    "SELECT\n",
    "    category,\n",
    "    pr.person_id,\n",
    "    pr.movie_id,\n",
    "    primary_name,\n",
    "    primary_title\n",
    "FROM\n",
    "    principals as pr\n",
    "INNER JOIN\n",
    "    persons as p using(person_id)\n",
    "INNER JOIN\n",
    "    movie_basics as mb using(movie_id)\n",
    "WHERE\n",
    "    category = 'director'\n",
    "''',conn)\n",
    "\n",
    "directors_df"
   ]
  },
  {
   "cell_type": "markdown",
   "metadata": {},
   "source": [
    "# Directors dataframe merge"
   ]
  },
  {
   "cell_type": "markdown",
   "metadata": {},
   "source": [
    "Merge the directors and tnmovie dataframes on 'primary_title' and 'movie'"
   ]
  },
  {
   "cell_type": "code",
   "execution_count": 45,
   "metadata": {},
   "outputs": [
    {
     "data": {
      "text/html": [
       "<div>\n",
       "<style scoped>\n",
       "    .dataframe tbody tr th:only-of-type {\n",
       "        vertical-align: middle;\n",
       "    }\n",
       "\n",
       "    .dataframe tbody tr th {\n",
       "        vertical-align: top;\n",
       "    }\n",
       "\n",
       "    .dataframe thead th {\n",
       "        text-align: right;\n",
       "    }\n",
       "</style>\n",
       "<table border=\"1\" class=\"dataframe\">\n",
       "  <thead>\n",
       "    <tr style=\"text-align: right;\">\n",
       "      <th></th>\n",
       "      <th>category</th>\n",
       "      <th>person_id</th>\n",
       "      <th>movie_id</th>\n",
       "      <th>primary_name</th>\n",
       "      <th>primary_title</th>\n",
       "      <th>id</th>\n",
       "      <th>release_date</th>\n",
       "      <th>movie</th>\n",
       "      <th>production_budget</th>\n",
       "      <th>domestic_gross</th>\n",
       "      <th>worldwide_gross</th>\n",
       "      <th>profit</th>\n",
       "      <th>perc_return</th>\n",
       "    </tr>\n",
       "  </thead>\n",
       "  <tbody>\n",
       "    <tr>\n",
       "      <th>0</th>\n",
       "      <td>director</td>\n",
       "      <td>nm0001053</td>\n",
       "      <td>tt0475290</td>\n",
       "      <td>Ethan Coen</td>\n",
       "      <td>Hail, Caesar!</td>\n",
       "      <td>22</td>\n",
       "      <td>2016-02-05</td>\n",
       "      <td>Hail, Caesar!</td>\n",
       "      <td>22000000</td>\n",
       "      <td>30080225</td>\n",
       "      <td>64160680</td>\n",
       "      <td>42160680</td>\n",
       "      <td>191.639455</td>\n",
       "    </tr>\n",
       "    <tr>\n",
       "      <th>1</th>\n",
       "      <td>director</td>\n",
       "      <td>nm0001054</td>\n",
       "      <td>tt0475290</td>\n",
       "      <td>Joel Coen</td>\n",
       "      <td>Hail, Caesar!</td>\n",
       "      <td>22</td>\n",
       "      <td>2016-02-05</td>\n",
       "      <td>Hail, Caesar!</td>\n",
       "      <td>22000000</td>\n",
       "      <td>30080225</td>\n",
       "      <td>64160680</td>\n",
       "      <td>42160680</td>\n",
       "      <td>191.639455</td>\n",
       "    </tr>\n",
       "    <tr>\n",
       "      <th>2</th>\n",
       "      <td>director</td>\n",
       "      <td>nm10678795</td>\n",
       "      <td>tt10300704</td>\n",
       "      <td>Anbarasan</td>\n",
       "      <td>Walter</td>\n",
       "      <td>96</td>\n",
       "      <td>2015-03-13</td>\n",
       "      <td>Walter</td>\n",
       "      <td>700000</td>\n",
       "      <td>0</td>\n",
       "      <td>0</td>\n",
       "      <td>-700000</td>\n",
       "      <td>-100.000000</td>\n",
       "    </tr>\n",
       "    <tr>\n",
       "      <th>3</th>\n",
       "      <td>director</td>\n",
       "      <td>nm1457361</td>\n",
       "      <td>tt2016335</td>\n",
       "      <td>Anna Mastro</td>\n",
       "      <td>Walter</td>\n",
       "      <td>96</td>\n",
       "      <td>2015-03-13</td>\n",
       "      <td>Walter</td>\n",
       "      <td>700000</td>\n",
       "      <td>0</td>\n",
       "      <td>0</td>\n",
       "      <td>-700000</td>\n",
       "      <td>-100.000000</td>\n",
       "    </tr>\n",
       "    <tr>\n",
       "      <th>4</th>\n",
       "      <td>director</td>\n",
       "      <td>nm6315709</td>\n",
       "      <td>tt3558672</td>\n",
       "      <td>Daniela Imhoff</td>\n",
       "      <td>Walter</td>\n",
       "      <td>96</td>\n",
       "      <td>2015-03-13</td>\n",
       "      <td>Walter</td>\n",
       "      <td>700000</td>\n",
       "      <td>0</td>\n",
       "      <td>0</td>\n",
       "      <td>-700000</td>\n",
       "      <td>-100.000000</td>\n",
       "    </tr>\n",
       "    <tr>\n",
       "      <th>...</th>\n",
       "      <td>...</td>\n",
       "      <td>...</td>\n",
       "      <td>...</td>\n",
       "      <td>...</td>\n",
       "      <td>...</td>\n",
       "      <td>...</td>\n",
       "      <td>...</td>\n",
       "      <td>...</td>\n",
       "      <td>...</td>\n",
       "      <td>...</td>\n",
       "      <td>...</td>\n",
       "      <td>...</td>\n",
       "      <td>...</td>\n",
       "    </tr>\n",
       "    <tr>\n",
       "      <th>3864</th>\n",
       "      <td>director</td>\n",
       "      <td>nm0619110</td>\n",
       "      <td>tt7961060</td>\n",
       "      <td>Tatsuya Nagamine</td>\n",
       "      <td>Dragon Ball Super: Broly</td>\n",
       "      <td>36</td>\n",
       "      <td>2019-01-16</td>\n",
       "      <td>Dragon Ball Super: Broly</td>\n",
       "      <td>8500000</td>\n",
       "      <td>30376755</td>\n",
       "      <td>122747755</td>\n",
       "      <td>114247755</td>\n",
       "      <td>1344.091235</td>\n",
       "    </tr>\n",
       "    <tr>\n",
       "      <th>3865</th>\n",
       "      <td>director</td>\n",
       "      <td>nm3258280</td>\n",
       "      <td>tt6962340</td>\n",
       "      <td>Anand Vrs Tomar</td>\n",
       "      <td>The Touch</td>\n",
       "      <td>10</td>\n",
       "      <td>2004-03-31</td>\n",
       "      <td>The Touch</td>\n",
       "      <td>20000000</td>\n",
       "      <td>0</td>\n",
       "      <td>5918742</td>\n",
       "      <td>-14081258</td>\n",
       "      <td>-70.406290</td>\n",
       "    </tr>\n",
       "    <tr>\n",
       "      <th>3866</th>\n",
       "      <td>director</td>\n",
       "      <td>nm4991904</td>\n",
       "      <td>tt9805168</td>\n",
       "      <td>Janchivdorj Sengedorj</td>\n",
       "      <td>Traitor</td>\n",
       "      <td>25</td>\n",
       "      <td>2008-08-27</td>\n",
       "      <td>Traitor</td>\n",
       "      <td>22000000</td>\n",
       "      <td>23530831</td>\n",
       "      <td>27882226</td>\n",
       "      <td>5882226</td>\n",
       "      <td>26.737391</td>\n",
       "    </tr>\n",
       "    <tr>\n",
       "      <th>3867</th>\n",
       "      <td>director</td>\n",
       "      <td>nm9457387</td>\n",
       "      <td>tt7694546</td>\n",
       "      <td>Zefei Liu</td>\n",
       "      <td>Beowulf</td>\n",
       "      <td>88</td>\n",
       "      <td>2007-11-16</td>\n",
       "      <td>Beowulf</td>\n",
       "      <td>150000000</td>\n",
       "      <td>82280579</td>\n",
       "      <td>195080579</td>\n",
       "      <td>45080579</td>\n",
       "      <td>30.053719</td>\n",
       "    </tr>\n",
       "    <tr>\n",
       "      <th>3868</th>\n",
       "      <td>director</td>\n",
       "      <td>nm9457390</td>\n",
       "      <td>tt7694546</td>\n",
       "      <td>Chase Pottinger</td>\n",
       "      <td>Beowulf</td>\n",
       "      <td>88</td>\n",
       "      <td>2007-11-16</td>\n",
       "      <td>Beowulf</td>\n",
       "      <td>150000000</td>\n",
       "      <td>82280579</td>\n",
       "      <td>195080579</td>\n",
       "      <td>45080579</td>\n",
       "      <td>30.053719</td>\n",
       "    </tr>\n",
       "  </tbody>\n",
       "</table>\n",
       "<p>3869 rows × 13 columns</p>\n",
       "</div>"
      ],
      "text/plain": [
       "      category   person_id    movie_id           primary_name  \\\n",
       "0     director   nm0001053   tt0475290             Ethan Coen   \n",
       "1     director   nm0001054   tt0475290              Joel Coen   \n",
       "2     director  nm10678795  tt10300704              Anbarasan   \n",
       "3     director   nm1457361   tt2016335            Anna Mastro   \n",
       "4     director   nm6315709   tt3558672         Daniela Imhoff   \n",
       "...        ...         ...         ...                    ...   \n",
       "3864  director   nm0619110   tt7961060       Tatsuya Nagamine   \n",
       "3865  director   nm3258280   tt6962340        Anand Vrs Tomar   \n",
       "3866  director   nm4991904   tt9805168  Janchivdorj Sengedorj   \n",
       "3867  director   nm9457387   tt7694546              Zefei Liu   \n",
       "3868  director   nm9457390   tt7694546        Chase Pottinger   \n",
       "\n",
       "                 primary_title  id release_date                     movie  \\\n",
       "0                Hail, Caesar!  22   2016-02-05             Hail, Caesar!   \n",
       "1                Hail, Caesar!  22   2016-02-05             Hail, Caesar!   \n",
       "2                       Walter  96   2015-03-13                    Walter   \n",
       "3                       Walter  96   2015-03-13                    Walter   \n",
       "4                       Walter  96   2015-03-13                    Walter   \n",
       "...                        ...  ..          ...                       ...   \n",
       "3864  Dragon Ball Super: Broly  36   2019-01-16  Dragon Ball Super: Broly   \n",
       "3865                 The Touch  10   2004-03-31                 The Touch   \n",
       "3866                   Traitor  25   2008-08-27                   Traitor   \n",
       "3867                   Beowulf  88   2007-11-16                   Beowulf   \n",
       "3868                   Beowulf  88   2007-11-16                   Beowulf   \n",
       "\n",
       "      production_budget  domestic_gross  worldwide_gross     profit  \\\n",
       "0              22000000        30080225         64160680   42160680   \n",
       "1              22000000        30080225         64160680   42160680   \n",
       "2                700000               0                0    -700000   \n",
       "3                700000               0                0    -700000   \n",
       "4                700000               0                0    -700000   \n",
       "...                 ...             ...              ...        ...   \n",
       "3864            8500000        30376755        122747755  114247755   \n",
       "3865           20000000               0          5918742  -14081258   \n",
       "3866           22000000        23530831         27882226    5882226   \n",
       "3867          150000000        82280579        195080579   45080579   \n",
       "3868          150000000        82280579        195080579   45080579   \n",
       "\n",
       "      perc_return  \n",
       "0      191.639455  \n",
       "1      191.639455  \n",
       "2     -100.000000  \n",
       "3     -100.000000  \n",
       "4     -100.000000  \n",
       "...           ...  \n",
       "3864  1344.091235  \n",
       "3865   -70.406290  \n",
       "3866    26.737391  \n",
       "3867    30.053719  \n",
       "3868    30.053719  \n",
       "\n",
       "[3869 rows x 13 columns]"
      ]
     },
     "execution_count": 45,
     "metadata": {},
     "output_type": "execute_result"
    }
   ],
   "source": [
    "directors_df = pd.merge(directors_df,\n",
    "                  tnmovie,\n",
    "                  left_on='primary_title',\n",
    "                  right_on='movie')\n",
    "\n",
    "directors_df "
   ]
  },
  {
   "cell_type": "markdown",
   "metadata": {},
   "source": [
    "# Top Directors by Profit"
   ]
  },
  {
   "cell_type": "markdown",
   "metadata": {},
   "source": [
    "Count the values associated with the 15 most common directors that appear in the sorted directors df."
   ]
  },
  {
   "cell_type": "code",
   "execution_count": 47,
   "metadata": {
    "scrolled": true
   },
   "outputs": [
    {
     "data": {
      "text/plain": [
       "primary_name\n",
       "Tim Story             9\n",
       "David Gordon Green    8\n",
       "Steven Spielberg      8\n",
       "Steven Soderbergh     7\n",
       "Ridley Scott          7\n",
       "Clint Eastwood        6\n",
       "Tim Burton            6\n",
       "Peter Berg            6\n",
       "Jaume Collet-Serra    6\n",
       "Denis Villeneuve      6\n",
       "Jon M. Chu            6\n",
       "Guillermo del Toro    5\n",
       "Ron Howard            5\n",
       "Robert Rodriguez      5\n",
       "David O. Russell      5\n",
       "dtype: int64"
      ]
     },
     "execution_count": 47,
     "metadata": {},
     "output_type": "execute_result"
    }
   ],
   "source": [
    "top_15_dirs = directors_df.value_counts('primary_name').head(15)\n",
    "\n",
    "top_15_dirs"
   ]
  },
  {
   "cell_type": "markdown",
   "metadata": {},
   "source": [
    "Make a list of director names using index."
   ]
  },
  {
   "cell_type": "code",
   "execution_count": 48,
   "metadata": {
    "scrolled": false
   },
   "outputs": [
    {
     "data": {
      "text/plain": [
       "['Tim Story',\n",
       " 'David Gordon Green',\n",
       " 'Steven Spielberg',\n",
       " 'Steven Soderbergh',\n",
       " 'Ridley Scott',\n",
       " 'Clint Eastwood',\n",
       " 'Tim Burton',\n",
       " 'Peter Berg',\n",
       " 'Jaume Collet-Serra',\n",
       " 'Denis Villeneuve',\n",
       " 'Jon M. Chu',\n",
       " 'Guillermo del Toro',\n",
       " 'Ron Howard',\n",
       " 'Robert Rodriguez',\n",
       " 'David O. Russell']"
      ]
     },
     "execution_count": 48,
     "metadata": {},
     "output_type": "execute_result"
    }
   ],
   "source": [
    "top_15_dirs_list = list(top_15_dirs.index)\n",
    "\n",
    "top_15_dirs_list"
   ]
  },
  {
   "cell_type": "markdown",
   "metadata": {},
   "source": [
    "Iterate through the list of top 15 directors.\n",
    "\n",
    "Next, locate the rows and columns where the 'primary_name' is equal to the director's name.\n",
    "\n",
    "Then, append the average profit for each movie the director directed in to a new list."
   ]
  },
  {
   "cell_type": "code",
   "execution_count": 49,
   "metadata": {
    "scrolled": true
   },
   "outputs": [
    {
     "data": {
      "text/plain": [
       "[48457857.44444445,\n",
       " 42364834.5,\n",
       " 164754974.375,\n",
       " 45581726.85714286,\n",
       " 176967321.2857143,\n",
       " 137916026.66666666,\n",
       " 190861143.33333334,\n",
       " 34929965.833333336,\n",
       " 75478617.16666667,\n",
       " 57327861.166666664,\n",
       " 150242933.66666666,\n",
       " 97190623.6,\n",
       " 62628345.4,\n",
       " 48152771.4,\n",
       " 113364526.0]"
      ]
     },
     "execution_count": 49,
     "metadata": {},
     "output_type": "execute_result"
    }
   ],
   "source": [
    "avg_dir = []\n",
    "\n",
    "for director in top_15_dirs_list:\n",
    "    directors_filtered = directors_df.loc[directors_df['primary_name'] == director]\n",
    "    avg_dir.append(directors_filtered.profit.mean())\n",
    "    \n",
    "avg_dir"
   ]
  },
  {
   "cell_type": "markdown",
   "metadata": {},
   "source": [
    "Create a dataframe using zip with the top 15 directors and average profit lists"
   ]
  },
  {
   "cell_type": "code",
   "execution_count": 50,
   "metadata": {},
   "outputs": [],
   "source": [
    "directing_df = pd.DataFrame(list(zip(top_15_dirs_list, avg_dir)),\n",
    "               columns =['director_name', 'average_profit'])"
   ]
  },
  {
   "cell_type": "code",
   "execution_count": 51,
   "metadata": {},
   "outputs": [
    {
     "data": {
      "text/html": [
       "<div>\n",
       "<style scoped>\n",
       "    .dataframe tbody tr th:only-of-type {\n",
       "        vertical-align: middle;\n",
       "    }\n",
       "\n",
       "    .dataframe tbody tr th {\n",
       "        vertical-align: top;\n",
       "    }\n",
       "\n",
       "    .dataframe thead th {\n",
       "        text-align: right;\n",
       "    }\n",
       "</style>\n",
       "<table border=\"1\" class=\"dataframe\">\n",
       "  <thead>\n",
       "    <tr style=\"text-align: right;\">\n",
       "      <th></th>\n",
       "      <th>director_name</th>\n",
       "      <th>average_profit</th>\n",
       "    </tr>\n",
       "  </thead>\n",
       "  <tbody>\n",
       "    <tr>\n",
       "      <th>0</th>\n",
       "      <td>Tim Story</td>\n",
       "      <td>4.845786e+07</td>\n",
       "    </tr>\n",
       "    <tr>\n",
       "      <th>1</th>\n",
       "      <td>David Gordon Green</td>\n",
       "      <td>4.236483e+07</td>\n",
       "    </tr>\n",
       "    <tr>\n",
       "      <th>2</th>\n",
       "      <td>Steven Spielberg</td>\n",
       "      <td>1.647550e+08</td>\n",
       "    </tr>\n",
       "    <tr>\n",
       "      <th>3</th>\n",
       "      <td>Steven Soderbergh</td>\n",
       "      <td>4.558173e+07</td>\n",
       "    </tr>\n",
       "    <tr>\n",
       "      <th>4</th>\n",
       "      <td>Ridley Scott</td>\n",
       "      <td>1.769673e+08</td>\n",
       "    </tr>\n",
       "  </tbody>\n",
       "</table>\n",
       "</div>"
      ],
      "text/plain": [
       "        director_name  average_profit\n",
       "0           Tim Story    4.845786e+07\n",
       "1  David Gordon Green    4.236483e+07\n",
       "2    Steven Spielberg    1.647550e+08\n",
       "3   Steven Soderbergh    4.558173e+07\n",
       "4        Ridley Scott    1.769673e+08"
      ]
     },
     "execution_count": 51,
     "metadata": {},
     "output_type": "execute_result"
    }
   ],
   "source": [
    "directing_df.head()"
   ]
  },
  {
   "cell_type": "markdown",
   "metadata": {},
   "source": [
    "Sort the dataframe by 'average_profit'"
   ]
  },
  {
   "cell_type": "code",
   "execution_count": 52,
   "metadata": {},
   "outputs": [],
   "source": [
    "directing_df.sort_values(by='average_profit', inplace=True, ascending=False)"
   ]
  },
  {
   "cell_type": "markdown",
   "metadata": {},
   "source": [
    "# Directors by Average Profit - Data Visualization"
   ]
  },
  {
   "cell_type": "markdown",
   "metadata": {},
   "source": [
    "Create a barh using seaborn with the average profit for each movie the director directed on the x-axis and the director name column on the y-axis.\n",
    "\n",
    "Change x-axis units from scientific notation to easily readable numbers."
   ]
  },
  {
   "cell_type": "code",
   "execution_count": 53,
   "metadata": {},
   "outputs": [
    {
     "data": {
      "image/png": "[encoded data removed]",
      "text/plain": [
       "<Figure size 1080x720 with 1 Axes>"
      ]
     },
     "metadata": {},
     "output_type": "display_data"
    }
   ],
   "source": [
    "sns.set(style=\"white\")\n",
    "\n",
    "sns.color_palette(\"rocket\")\n",
    "\n",
    "sns.set(rc = {'figure.figsize':(15,10)})\n",
    "\n",
    "g = sns.barplot(x='average_profit', y='director_name', data=directing_df.head(5))\n",
    "\n",
    "plt.title('Top Directors by Average Profit', fontsize=30)\n",
    "plt.xlabel('Average Profit Per Movie', fontsize=19)\n",
    "plt.ylabel('Directors', fontsize=19)\n",
    "\n",
    "#plt.ticklabel_format(axis='x', style='plain')\n",
    "#pd.set_option('display.float_format', lambda x: '%.9f' % x)\n",
    "\n",
    "ticks_loc = g.get_xticks().tolist()\n",
    "g.xaxis.set_major_locator(mtick.FixedLocator(ticks_loc))\n",
    "label_format = '{:,.0f}'\n",
    "g.set_xticklabels([label_format.format(x) for x in ticks_loc])\n",
    "\n",
    "xlabels = ['${:,.0f}'.format(x) + ' MM' for x in g.get_xticks()/1000000]\n",
    "g.set_xticklabels(xlabels);"
   ]
  },
  {
   "cell_type": "markdown",
   "metadata": {},
   "source": [
    "# Findings"
   ]
  },
  {
   "cell_type": "markdown",
   "metadata": {},
   "source": [
    "Directors draw in audiences! Steven Spielbergs, Tim Burtons, and Ridley Scotts \n",
    "create universes that pull over $150 million in box office. These directors have unqiue, \n",
    "beloved fimlamking styles. And their fans come out in droves to experience them in theaters. \n",
    "Sometimes multiple times. With one these visionaries at the helm, Microsoft may likley produce \n",
    "an instant classic and a blockbuster hit at the same time."
   ]
  },
  {
   "cell_type": "markdown",
   "metadata": {},
   "source": [
    "# Actors SQL"
   ]
  },
  {
   "cell_type": "markdown",
   "metadata": {},
   "source": [
    "Use SQL query to join tables by primary and foreign keys. This new comprehensive dataframe contains indentifying data regarding actors."
   ]
  },
  {
   "cell_type": "code",
   "execution_count": 54,
   "metadata": {},
   "outputs": [
    {
     "data": {
      "text/html": [
       "<div>\n",
       "<style scoped>\n",
       "    .dataframe tbody tr th:only-of-type {\n",
       "        vertical-align: middle;\n",
       "    }\n",
       "\n",
       "    .dataframe tbody tr th {\n",
       "        vertical-align: top;\n",
       "    }\n",
       "\n",
       "    .dataframe thead th {\n",
       "        text-align: right;\n",
       "    }\n",
       "</style>\n",
       "<table border=\"1\" class=\"dataframe\">\n",
       "  <thead>\n",
       "    <tr style=\"text-align: right;\">\n",
       "      <th></th>\n",
       "      <th>category</th>\n",
       "      <th>person_id</th>\n",
       "      <th>movie_id</th>\n",
       "      <th>primary_name</th>\n",
       "      <th>primary_title</th>\n",
       "    </tr>\n",
       "  </thead>\n",
       "  <tbody>\n",
       "    <tr>\n",
       "      <th>0</th>\n",
       "      <td>actor</td>\n",
       "      <td>nm0246005</td>\n",
       "      <td>tt0111414</td>\n",
       "      <td>Tommy Dysart</td>\n",
       "      <td>A Thin Life</td>\n",
       "    </tr>\n",
       "    <tr>\n",
       "      <th>1</th>\n",
       "      <td>actress</td>\n",
       "      <td>nm3579312</td>\n",
       "      <td>tt0323808</td>\n",
       "      <td>Brittania Nicol</td>\n",
       "      <td>The Wicker Tree</td>\n",
       "    </tr>\n",
       "    <tr>\n",
       "      <th>2</th>\n",
       "      <td>actor</td>\n",
       "      <td>nm2694680</td>\n",
       "      <td>tt0323808</td>\n",
       "      <td>Henry Garrett</td>\n",
       "      <td>The Wicker Tree</td>\n",
       "    </tr>\n",
       "    <tr>\n",
       "      <th>3</th>\n",
       "      <td>actor</td>\n",
       "      <td>nm0574615</td>\n",
       "      <td>tt0323808</td>\n",
       "      <td>Graham McTavish</td>\n",
       "      <td>The Wicker Tree</td>\n",
       "    </tr>\n",
       "    <tr>\n",
       "      <th>4</th>\n",
       "      <td>actress</td>\n",
       "      <td>nm0502652</td>\n",
       "      <td>tt0323808</td>\n",
       "      <td>Jacqueline Leonard</td>\n",
       "      <td>The Wicker Tree</td>\n",
       "    </tr>\n",
       "    <tr>\n",
       "      <th>...</th>\n",
       "      <td>...</td>\n",
       "      <td>...</td>\n",
       "      <td>...</td>\n",
       "      <td>...</td>\n",
       "      <td>...</td>\n",
       "    </tr>\n",
       "    <tr>\n",
       "      <th>402680</th>\n",
       "      <td>actor</td>\n",
       "      <td>nm10397910</td>\n",
       "      <td>tt9681728</td>\n",
       "      <td>Danil Tyabin</td>\n",
       "      <td>A Russian Youth</td>\n",
       "    </tr>\n",
       "    <tr>\n",
       "      <th>402681</th>\n",
       "      <td>actor</td>\n",
       "      <td>nm10439726</td>\n",
       "      <td>tt9689618</td>\n",
       "      <td>Christian Lacroix</td>\n",
       "      <td>Moonface. A woman in the war.</td>\n",
       "    </tr>\n",
       "    <tr>\n",
       "      <th>402682</th>\n",
       "      <td>actor</td>\n",
       "      <td>nm10439727</td>\n",
       "      <td>tt9689618</td>\n",
       "      <td>Christine Spengler</td>\n",
       "      <td>Moonface. A woman in the war.</td>\n",
       "    </tr>\n",
       "    <tr>\n",
       "      <th>402683</th>\n",
       "      <td>actor</td>\n",
       "      <td>nm10439724</td>\n",
       "      <td>tt9689618</td>\n",
       "      <td>Phillippe Warner</td>\n",
       "      <td>Moonface. A woman in the war.</td>\n",
       "    </tr>\n",
       "    <tr>\n",
       "      <th>402684</th>\n",
       "      <td>actor</td>\n",
       "      <td>nm0186469</td>\n",
       "      <td>tt9692684</td>\n",
       "      <td>Kenneth Cranham</td>\n",
       "      <td>Disnatured</td>\n",
       "    </tr>\n",
       "  </tbody>\n",
       "</table>\n",
       "<p>402685 rows × 5 columns</p>\n",
       "</div>"
      ],
      "text/plain": [
       "       category   person_id   movie_id        primary_name  \\\n",
       "0         actor   nm0246005  tt0111414        Tommy Dysart   \n",
       "1       actress   nm3579312  tt0323808     Brittania Nicol   \n",
       "2         actor   nm2694680  tt0323808       Henry Garrett   \n",
       "3         actor   nm0574615  tt0323808     Graham McTavish   \n",
       "4       actress   nm0502652  tt0323808  Jacqueline Leonard   \n",
       "...         ...         ...        ...                 ...   \n",
       "402680    actor  nm10397910  tt9681728        Danil Tyabin   \n",
       "402681    actor  nm10439726  tt9689618   Christian Lacroix   \n",
       "402682    actor  nm10439727  tt9689618  Christine Spengler   \n",
       "402683    actor  nm10439724  tt9689618    Phillippe Warner   \n",
       "402684    actor   nm0186469  tt9692684     Kenneth Cranham   \n",
       "\n",
       "                        primary_title  \n",
       "0                         A Thin Life  \n",
       "1                     The Wicker Tree  \n",
       "2                     The Wicker Tree  \n",
       "3                     The Wicker Tree  \n",
       "4                     The Wicker Tree  \n",
       "...                               ...  \n",
       "402680                A Russian Youth  \n",
       "402681  Moonface. A woman in the war.  \n",
       "402682  Moonface. A woman in the war.  \n",
       "402683  Moonface. A woman in the war.  \n",
       "402684                     Disnatured  \n",
       "\n",
       "[402685 rows x 5 columns]"
      ]
     },
     "execution_count": 54,
     "metadata": {},
     "output_type": "execute_result"
    }
   ],
   "source": [
    "actors = pd.read_sql('''\n",
    "SELECT\n",
    "    category,\n",
    "    pr.person_id,\n",
    "    pr.movie_id,\n",
    "    primary_name,\n",
    "    primary_title\n",
    "FROM\n",
    "    principals as pr\n",
    "INNER JOIN\n",
    "    persons as p using(person_id)\n",
    "INNER JOIN\n",
    "    movie_basics as mb using(movie_id)\n",
    "WHERE\n",
    "    category = 'actor' \n",
    "    or\n",
    "    category = 'actress'\n",
    "''',conn)\n",
    "\n",
    "actors"
   ]
  },
  {
   "cell_type": "markdown",
   "metadata": {},
   "source": [
    "# Actors Dataframe Merge"
   ]
  },
  {
   "cell_type": "markdown",
   "metadata": {},
   "source": [
    "Merge the actors and tnmovie dataframes on 'primary_title' and 'movie'"
   ]
  },
  {
   "cell_type": "code",
   "execution_count": 55,
   "metadata": {},
   "outputs": [
    {
     "data": {
      "text/html": [
       "<div>\n",
       "<style scoped>\n",
       "    .dataframe tbody tr th:only-of-type {\n",
       "        vertical-align: middle;\n",
       "    }\n",
       "\n",
       "    .dataframe tbody tr th {\n",
       "        vertical-align: top;\n",
       "    }\n",
       "\n",
       "    .dataframe thead th {\n",
       "        text-align: right;\n",
       "    }\n",
       "</style>\n",
       "<table border=\"1\" class=\"dataframe\">\n",
       "  <thead>\n",
       "    <tr style=\"text-align: right;\">\n",
       "      <th></th>\n",
       "      <th>category</th>\n",
       "      <th>person_id</th>\n",
       "      <th>movie_id</th>\n",
       "      <th>primary_name</th>\n",
       "      <th>primary_title</th>\n",
       "      <th>id</th>\n",
       "      <th>release_date</th>\n",
       "      <th>movie</th>\n",
       "      <th>production_budget</th>\n",
       "      <th>domestic_gross</th>\n",
       "      <th>worldwide_gross</th>\n",
       "      <th>profit</th>\n",
       "      <th>perc_return</th>\n",
       "    </tr>\n",
       "  </thead>\n",
       "  <tbody>\n",
       "    <tr>\n",
       "      <th>0</th>\n",
       "      <td>actor</td>\n",
       "      <td>nm0000982</td>\n",
       "      <td>tt0475290</td>\n",
       "      <td>Josh Brolin</td>\n",
       "      <td>Hail, Caesar!</td>\n",
       "      <td>22</td>\n",
       "      <td>2016-02-05</td>\n",
       "      <td>Hail, Caesar!</td>\n",
       "      <td>22000000</td>\n",
       "      <td>30080225</td>\n",
       "      <td>64160680</td>\n",
       "      <td>42160680</td>\n",
       "      <td>191.639455</td>\n",
       "    </tr>\n",
       "    <tr>\n",
       "      <th>1</th>\n",
       "      <td>actor</td>\n",
       "      <td>nm0000123</td>\n",
       "      <td>tt0475290</td>\n",
       "      <td>George Clooney</td>\n",
       "      <td>Hail, Caesar!</td>\n",
       "      <td>22</td>\n",
       "      <td>2016-02-05</td>\n",
       "      <td>Hail, Caesar!</td>\n",
       "      <td>22000000</td>\n",
       "      <td>30080225</td>\n",
       "      <td>64160680</td>\n",
       "      <td>42160680</td>\n",
       "      <td>191.639455</td>\n",
       "    </tr>\n",
       "    <tr>\n",
       "      <th>2</th>\n",
       "      <td>actor</td>\n",
       "      <td>nm2403277</td>\n",
       "      <td>tt0475290</td>\n",
       "      <td>Alden Ehrenreich</td>\n",
       "      <td>Hail, Caesar!</td>\n",
       "      <td>22</td>\n",
       "      <td>2016-02-05</td>\n",
       "      <td>Hail, Caesar!</td>\n",
       "      <td>22000000</td>\n",
       "      <td>30080225</td>\n",
       "      <td>64160680</td>\n",
       "      <td>42160680</td>\n",
       "      <td>191.639455</td>\n",
       "    </tr>\n",
       "    <tr>\n",
       "      <th>3</th>\n",
       "      <td>actor</td>\n",
       "      <td>nm0000146</td>\n",
       "      <td>tt0475290</td>\n",
       "      <td>Ralph Fiennes</td>\n",
       "      <td>Hail, Caesar!</td>\n",
       "      <td>22</td>\n",
       "      <td>2016-02-05</td>\n",
       "      <td>Hail, Caesar!</td>\n",
       "      <td>22000000</td>\n",
       "      <td>30080225</td>\n",
       "      <td>64160680</td>\n",
       "      <td>42160680</td>\n",
       "      <td>191.639455</td>\n",
       "    </tr>\n",
       "    <tr>\n",
       "      <th>4</th>\n",
       "      <td>actor</td>\n",
       "      <td>nm0006763</td>\n",
       "      <td>tt10300704</td>\n",
       "      <td>Jackie Shroff</td>\n",
       "      <td>Walter</td>\n",
       "      <td>96</td>\n",
       "      <td>2015-03-13</td>\n",
       "      <td>Walter</td>\n",
       "      <td>700000</td>\n",
       "      <td>0</td>\n",
       "      <td>0</td>\n",
       "      <td>-700000</td>\n",
       "      <td>-100.000000</td>\n",
       "    </tr>\n",
       "    <tr>\n",
       "      <th>...</th>\n",
       "      <td>...</td>\n",
       "      <td>...</td>\n",
       "      <td>...</td>\n",
       "      <td>...</td>\n",
       "      <td>...</td>\n",
       "      <td>...</td>\n",
       "      <td>...</td>\n",
       "      <td>...</td>\n",
       "      <td>...</td>\n",
       "      <td>...</td>\n",
       "      <td>...</td>\n",
       "      <td>...</td>\n",
       "      <td>...</td>\n",
       "    </tr>\n",
       "    <tr>\n",
       "      <th>13362</th>\n",
       "      <td>actor</td>\n",
       "      <td>nm10487076</td>\n",
       "      <td>tt9805168</td>\n",
       "      <td>E. Iderbold</td>\n",
       "      <td>Traitor</td>\n",
       "      <td>25</td>\n",
       "      <td>2008-08-27</td>\n",
       "      <td>Traitor</td>\n",
       "      <td>22000000</td>\n",
       "      <td>23530831</td>\n",
       "      <td>27882226</td>\n",
       "      <td>5882226</td>\n",
       "      <td>26.737391</td>\n",
       "    </tr>\n",
       "    <tr>\n",
       "      <th>13363</th>\n",
       "      <td>actor</td>\n",
       "      <td>nm10480867</td>\n",
       "      <td>tt9805168</td>\n",
       "      <td>N. Yalalt</td>\n",
       "      <td>Traitor</td>\n",
       "      <td>25</td>\n",
       "      <td>2008-08-27</td>\n",
       "      <td>Traitor</td>\n",
       "      <td>22000000</td>\n",
       "      <td>23530831</td>\n",
       "      <td>27882226</td>\n",
       "      <td>5882226</td>\n",
       "      <td>26.737391</td>\n",
       "    </tr>\n",
       "    <tr>\n",
       "      <th>13364</th>\n",
       "      <td>actor</td>\n",
       "      <td>nm10487077</td>\n",
       "      <td>tt9805168</td>\n",
       "      <td>A. Önörjargal</td>\n",
       "      <td>Traitor</td>\n",
       "      <td>25</td>\n",
       "      <td>2008-08-27</td>\n",
       "      <td>Traitor</td>\n",
       "      <td>22000000</td>\n",
       "      <td>23530831</td>\n",
       "      <td>27882226</td>\n",
       "      <td>5882226</td>\n",
       "      <td>26.737391</td>\n",
       "    </tr>\n",
       "    <tr>\n",
       "      <th>13365</th>\n",
       "      <td>actor</td>\n",
       "      <td>nm9457389</td>\n",
       "      <td>tt7694546</td>\n",
       "      <td>Dongchao Tai</td>\n",
       "      <td>Beowulf</td>\n",
       "      <td>88</td>\n",
       "      <td>2007-11-16</td>\n",
       "      <td>Beowulf</td>\n",
       "      <td>150000000</td>\n",
       "      <td>82280579</td>\n",
       "      <td>195080579</td>\n",
       "      <td>45080579</td>\n",
       "      <td>30.053719</td>\n",
       "    </tr>\n",
       "    <tr>\n",
       "      <th>13366</th>\n",
       "      <td>actor</td>\n",
       "      <td>nm3868049</td>\n",
       "      <td>tt9678962</td>\n",
       "      <td>Maarten Wijsman</td>\n",
       "      <td>Fuel</td>\n",
       "      <td>35</td>\n",
       "      <td>2008-11-14</td>\n",
       "      <td>Fuel</td>\n",
       "      <td>2500000</td>\n",
       "      <td>174255</td>\n",
       "      <td>174255</td>\n",
       "      <td>-2325745</td>\n",
       "      <td>-93.029800</td>\n",
       "    </tr>\n",
       "  </tbody>\n",
       "</table>\n",
       "<p>13367 rows × 13 columns</p>\n",
       "</div>"
      ],
      "text/plain": [
       "      category   person_id    movie_id      primary_name  primary_title  id  \\\n",
       "0        actor   nm0000982   tt0475290       Josh Brolin  Hail, Caesar!  22   \n",
       "1        actor   nm0000123   tt0475290    George Clooney  Hail, Caesar!  22   \n",
       "2        actor   nm2403277   tt0475290  Alden Ehrenreich  Hail, Caesar!  22   \n",
       "3        actor   nm0000146   tt0475290     Ralph Fiennes  Hail, Caesar!  22   \n",
       "4        actor   nm0006763  tt10300704     Jackie Shroff         Walter  96   \n",
       "...        ...         ...         ...               ...            ...  ..   \n",
       "13362    actor  nm10487076   tt9805168       E. Iderbold        Traitor  25   \n",
       "13363    actor  nm10480867   tt9805168         N. Yalalt        Traitor  25   \n",
       "13364    actor  nm10487077   tt9805168     A. Önörjargal        Traitor  25   \n",
       "13365    actor   nm9457389   tt7694546      Dongchao Tai        Beowulf  88   \n",
       "13366    actor   nm3868049   tt9678962   Maarten Wijsman           Fuel  35   \n",
       "\n",
       "      release_date          movie  production_budget  domestic_gross  \\\n",
       "0       2016-02-05  Hail, Caesar!           22000000        30080225   \n",
       "1       2016-02-05  Hail, Caesar!           22000000        30080225   \n",
       "2       2016-02-05  Hail, Caesar!           22000000        30080225   \n",
       "3       2016-02-05  Hail, Caesar!           22000000        30080225   \n",
       "4       2015-03-13         Walter             700000               0   \n",
       "...            ...            ...                ...             ...   \n",
       "13362   2008-08-27        Traitor           22000000        23530831   \n",
       "13363   2008-08-27        Traitor           22000000        23530831   \n",
       "13364   2008-08-27        Traitor           22000000        23530831   \n",
       "13365   2007-11-16        Beowulf          150000000        82280579   \n",
       "13366   2008-11-14           Fuel            2500000          174255   \n",
       "\n",
       "       worldwide_gross    profit  perc_return  \n",
       "0             64160680  42160680   191.639455  \n",
       "1             64160680  42160680   191.639455  \n",
       "2             64160680  42160680   191.639455  \n",
       "3             64160680  42160680   191.639455  \n",
       "4                    0   -700000  -100.000000  \n",
       "...                ...       ...          ...  \n",
       "13362         27882226   5882226    26.737391  \n",
       "13363         27882226   5882226    26.737391  \n",
       "13364         27882226   5882226    26.737391  \n",
       "13365        195080579  45080579    30.053719  \n",
       "13366           174255  -2325745   -93.029800  \n",
       "\n",
       "[13367 rows x 13 columns]"
      ]
     },
     "execution_count": 55,
     "metadata": {},
     "output_type": "execute_result"
    }
   ],
   "source": [
    "actors_df = pd.merge(actors,\n",
    "                  tnmovie,\n",
    "                  left_on='primary_title',\n",
    "                  right_on='movie')\n",
    "\n",
    "actors_df"
   ]
  },
  {
   "cell_type": "markdown",
   "metadata": {},
   "source": [
    "# Actors by Average Profit"
   ]
  },
  {
   "cell_type": "markdown",
   "metadata": {},
   "source": [
    "Count the values associated with the 15 most common names that appear in the sorted actors df."
   ]
  },
  {
   "cell_type": "code",
   "execution_count": 56,
   "metadata": {},
   "outputs": [
    {
     "data": {
      "text/plain": [
       "primary_name\n",
       "Mark Wahlberg          19\n",
       "Dwayne Johnson         19\n",
       "Robert De Niro         18\n",
       "Liam Neeson            18\n",
       "Steve Carell           17\n",
       "Channing Tatum         17\n",
       "Joel Edgerton          17\n",
       "Kevin Hart             16\n",
       "Johnny Depp            16\n",
       "Matthew McConaughey    16\n",
       "Nicolas Cage           15\n",
       "Michael Fassbender     15\n",
       "Anna Kendrick          15\n",
       "Tom Hardy              15\n",
       "Jennifer Lawrence      15\n",
       "dtype: int64"
      ]
     },
     "execution_count": 56,
     "metadata": {},
     "output_type": "execute_result"
    }
   ],
   "source": [
    "top_15_actors = actors_df.value_counts('primary_name').head(15)\n",
    "\n",
    "top_15_actors"
   ]
  },
  {
   "cell_type": "markdown",
   "metadata": {},
   "source": [
    "Make a list of actor names using index."
   ]
  },
  {
   "cell_type": "code",
   "execution_count": 57,
   "metadata": {},
   "outputs": [
    {
     "data": {
      "text/plain": [
       "['Mark Wahlberg',\n",
       " 'Dwayne Johnson',\n",
       " 'Robert De Niro',\n",
       " 'Liam Neeson',\n",
       " 'Steve Carell',\n",
       " 'Channing Tatum',\n",
       " 'Joel Edgerton',\n",
       " 'Kevin Hart',\n",
       " 'Johnny Depp',\n",
       " 'Matthew McConaughey',\n",
       " 'Nicolas Cage',\n",
       " 'Michael Fassbender',\n",
       " 'Anna Kendrick',\n",
       " 'Tom Hardy',\n",
       " 'Jennifer Lawrence']"
      ]
     },
     "execution_count": 57,
     "metadata": {},
     "output_type": "execute_result"
    }
   ],
   "source": [
    "top_15_actors = list(top_15_actors.index)\n",
    "\n",
    "top_15_actors"
   ]
  },
  {
   "cell_type": "markdown",
   "metadata": {},
   "source": [
    "Iterate through the list of top 15 actors.\n",
    "\n",
    "Next, locate the rows and columns where the 'primary_name' is equal to the actors's name.\n",
    "\n",
    "Then, append the average profit for each movie the actor appeared in to a new list."
   ]
  },
  {
   "cell_type": "code",
   "execution_count": 58,
   "metadata": {},
   "outputs": [
    {
     "data": {
      "text/plain": [
       "137891808.0526316"
      ]
     },
     "execution_count": 58,
     "metadata": {},
     "output_type": "execute_result"
    }
   ],
   "source": [
    "avg_actor = []\n",
    "\n",
    "for actor in top_15_actors:\n",
    "    actors_filtered = actors_df.loc[actors_df['primary_name'] == actor]\n",
    "    avg_actor.append(actors_filtered.profit.mean())\n",
    "    \n",
    "avg_actor[0]"
   ]
  },
  {
   "cell_type": "markdown",
   "metadata": {},
   "source": [
    "Create a dataframe using zip with the top 15 actors and average profit lists"
   ]
  },
  {
   "cell_type": "code",
   "execution_count": 59,
   "metadata": {},
   "outputs": [],
   "source": [
    "acting_df = pd.DataFrame(list(zip(top_15_actors, avg_actor)),\n",
    "               columns =['actor_name', 'average_profit'])"
   ]
  },
  {
   "cell_type": "markdown",
   "metadata": {},
   "source": [
    "Sort the dataframe by 'average_profit'"
   ]
  },
  {
   "cell_type": "code",
   "execution_count": 60,
   "metadata": {},
   "outputs": [],
   "source": [
    "acting_df.sort_values(by='average_profit', inplace=True, ascending=False)"
   ]
  },
  {
   "cell_type": "markdown",
   "metadata": {},
   "source": [
    "# Actors by Average Profit - Data Visualization\n"
   ]
  },
  {
   "cell_type": "markdown",
   "metadata": {},
   "source": [
    "Create a barh using seaborn with the average profit column on the x-axis and the actors name column on the y-axis.\n",
    "\n",
    "Change x-axis units from scientific notation to easily readable numbers."
   ]
  },
  {
   "cell_type": "code",
   "execution_count": 61,
   "metadata": {
    "scrolled": false
   },
   "outputs": [
    {
     "data": {
      "image/png": "[encoded data removed]",
      "text/plain": [
       "<Figure size 1080x720 with 1 Axes>"
      ]
     },
     "metadata": {},
     "output_type": "display_data"
    }
   ],
   "source": [
    "sns.set(style=\"white\")\n",
    "\n",
    "sns.color_palette(\"rocket\")\n",
    "\n",
    "sns.set(rc = {'figure.figsize':(15,10)})\n",
    "\n",
    "g = sns.barplot(x='average_profit', y='actor_name', data=acting_df.head(5))\n",
    "\n",
    "plt.title('Top Actors by Average Profit', fontsize=30)\n",
    "plt.xlabel('Average Profit Per Movie', fontsize=19)\n",
    "plt.ylabel('Actors', fontsize=19)\n",
    "\n",
    "plt.ticklabel_format(axis='x', style='plain')\n",
    "ticks_loc = g.get_xticks().tolist()\n",
    "g.xaxis.set_major_locator(mtick.FixedLocator(ticks_loc))\n",
    "label_format = '{:,.0f}'\n",
    "g.set_xticklabels([label_format.format(x) for x in ticks_loc])\n",
    "\n",
    "xlabels = ['${:,.0f}'.format(x) + ' MM' for x in g.get_xticks()/1000000]\n",
    "g.set_xticklabels(xlabels);"
   ]
  },
  {
   "cell_type": "markdown",
   "metadata": {},
   "source": [
    "# Findings"
   ]
  },
  {
   "cell_type": "markdown",
   "metadata": {},
   "source": [
    "Movie star appeal is a major box office draw! Actors like Dwayne Johnson, Jennifer Lawrence, and Kevin Hart not only makes us laugh and cry, they also inspire us. These actors average over $150 million per film because they have an army of die-hard fans always ready to invade the next midnight premiere. Casting one these stars in a Microsoft movie, may likley drive high box office sales."
   ]
  },
  {
   "cell_type": "markdown",
   "metadata": {},
   "source": [
    "# Next Steps"
   ]
  },
  {
   "cell_type": "markdown",
   "metadata": {},
   "source": [
    "We would like to explore the relationship between directors and actors and genres. Entertainment goliaths like Marvel and DC are exclusively held but Microsoft could hire an acclaimed director and produce their own rival franchises based on widely consumed source materials with an already rabid fan base. For example, someone like Denis Villeneuve (directed Dune) may be a great fit for this role. Establishing such a foothold could boost box office sales, grow viewership, and bolster the prestige of the fledgling studio."
   ]
  },
  {
   "cell_type": "markdown",
   "metadata": {},
   "source": [
    "# Jordan's Section - Understanding How Release Date and Critic Ratings Impact Box Office Success"
   ]
  },
  {
   "cell_type": "markdown",
   "metadata": {},
   "source": [
    "### Formatting Release Date to M/D format"
   ]
  },
  {
   "cell_type": "code",
   "execution_count": 62,
   "metadata": {},
   "outputs": [],
   "source": [
    "tnmovie['release_date_month'] = tnmovie['release_date'].dt.strftime('%m/%d')"
   ]
  },
  {
   "cell_type": "markdown",
   "metadata": {},
   "source": [
    "### Creating Release_Week, Month and Year Columns"
   ]
  },
  {
   "cell_type": "code",
   "execution_count": 63,
   "metadata": {},
   "outputs": [],
   "source": [
    "tnmovie['release_week'] = tnmovie['release_date'].dt.strftime('%U')"
   ]
  },
  {
   "cell_type": "code",
   "execution_count": 64,
   "metadata": {},
   "outputs": [],
   "source": [
    "tnmovie['release_month'] = tnmovie['release_date'].dt.strftime('%m')"
   ]
  },
  {
   "cell_type": "code",
   "execution_count": null,
   "metadata": {},
   "outputs": [],
   "source": [
    "tnmovie['release_year'] = tnmovie['release_date'].dt.strftime('%Y')"
   ]
  },
  {
   "cell_type": "code",
   "execution_count": null,
   "metadata": {},
   "outputs": [],
   "source": [
    "tnmovie.head()"
   ]
  },
  {
   "cell_type": "code",
   "execution_count": null,
   "metadata": {},
   "outputs": [],
   "source": [
    "tnmovie = tnmovie.sort_values(by='release_week',\n",
    "                   )"
   ]
  },
  {
   "cell_type": "code",
   "execution_count": null,
   "metadata": {},
   "outputs": [],
   "source": [
    "tnmovie.head()"
   ]
  },
  {
   "cell_type": "code",
   "execution_count": null,
   "metadata": {},
   "outputs": [],
   "source": [
    "plt.figure(figsize=(28, 8), dpi=80)\n",
    "\n",
    "movie_realease_by_week = plt.scatter(x = tnmovie['release_week'], y = tnmovie['profit'])\n",
    "\n",
    "plt.grid(False)\n",
    "plt.title('Movie Profit by Week')\n",
    "plt.xlabel('Week of the Year')\n",
    "plt.ylabel('Movie Profit')\n",
    "plt.show();"
   ]
  },
  {
   "cell_type": "markdown",
   "metadata": {},
   "source": [
    "Thoughts for tomorrow. Christmas 51, Thanksgiving 46, Chinese New Year 06, Late Spring 20.<br>\n",
    " Maybe could average the values for each week to make it more simple and readable."
   ]
  },
  {
   "cell_type": "markdown",
   "metadata": {},
   "source": [
    "### Import PANDASQL"
   ]
  },
  {
   "cell_type": "code",
   "execution_count": null,
   "metadata": {},
   "outputs": [],
   "source": [
    "pysqldf = lambda q: sqldf(q, globals())"
   ]
  },
  {
   "cell_type": "markdown",
   "metadata": {},
   "source": [
    "### Creation of Average Profit Weekly Column"
   ]
  },
  {
   "cell_type": "code",
   "execution_count": null,
   "metadata": {},
   "outputs": [],
   "source": [
    "q = '''SELECT release_week,\n",
    "            AVG(profit) as Average_Profit_Weekly\n",
    "       FROM tnmovie\n",
    "       GROUP BY\n",
    "           release_week;'''\n",
    "tnmovies_pandas_weekly = pysqldf(q)\n",
    "tnmovies_pandas_weekly"
   ]
  },
  {
   "cell_type": "code",
   "execution_count": null,
   "metadata": {},
   "outputs": [],
   "source": [
    "plt.figure(figsize=(28, 8), dpi=80)\n",
    "movie_realease_by_week = plt.bar(x = tnmovies_pandas_weekly['release_week'], height = tnmovies_pandas_weekly['Average_Profit_Weekly'])\n",
    "plt.title('Movie Profit by Week')\n",
    "plt.xlabel('Week of the Year')\n",
    "plt.ylabel('Movie Profit')\n",
    "plt.show();"
   ]
  },
  {
   "cell_type": "markdown",
   "metadata": {},
   "source": [
    "Maybe this visual would be easier read if it only contained months?"
   ]
  },
  {
   "cell_type": "markdown",
   "metadata": {},
   "source": [
    "### Monthly data filtered by last 10 years"
   ]
  },
  {
   "cell_type": "code",
   "execution_count": null,
   "metadata": {},
   "outputs": [],
   "source": [
    "q5 = '''SELECT release_month,\n",
    "            AVG(profit) as Average_Profit_Monthly,\n",
    "            ROUND(AVG(profit)/1000000, 2) AS Graph_APM\n",
    "       FROM tnmovie\n",
    "       WHERE\n",
    "           release_year > 2008\n",
    "       GROUP BY\n",
    "           release_month;'''\n",
    "tnmovies_pandas_monthly_10_years = pysqldf(q5)\n",
    "tnmovies_pandas_monthly_10_years"
   ]
  },
  {
   "cell_type": "markdown",
   "metadata": {},
   "source": [
    "### Creation of Monthly Average Bar Graph"
   ]
  },
  {
   "cell_type": "code",
   "execution_count": null,
   "metadata": {},
   "outputs": [],
   "source": [
    "month_mapping = {\n",
    "    '01': \"January\",\n",
    "    '02': \"February\",\n",
    "    '03': \"March\",\n",
    "    '04': \"April\",\n",
    "    '05': \"May\",\n",
    "    '06': \"June\",\n",
    "    '07': \"July\",\n",
    "    '08': \"August\",\n",
    "    '09': \"September\",\n",
    "    '10': \"October\",\n",
    "    '11': \"November\",\n",
    "    '12': \"December\"\n",
    "}"
   ]
  },
  {
   "cell_type": "code",
   "execution_count": null,
   "metadata": {},
   "outputs": [],
   "source": [
    "tnmovies_pandas_monthly_10_years['Month Title'] = tnmovies_pandas_monthly_10_years['release_month'].map(month_mapping)"
   ]
  },
  {
   "cell_type": "code",
   "execution_count": null,
   "metadata": {},
   "outputs": [],
   "source": [
    "plt.figure(figsize=(28, 8), dpi=80)\n",
    "movie_realease_by_month_10_year = plt.bar(x = tnmovies_pandas_monthly_10_years['Month Title'], height = tnmovies_pandas_monthly_10_years['Graph_APM'])\n",
    "\n",
    "\n",
    "plt.title('Movie Profit by Month Released', fontsize = 50, fontweight='bold', pad = 30)\n",
    "plt.xlabel('Month of the Year', fontsize = 30, labelpad = 20)\n",
    "plt.ylabel('Movie Profit', fontsize = 30, labelpad = 20)\n",
    "\n",
    "plt.ticklabel_format(axis='y', style='plain')\n",
    "plt.ticklabel_format(axis='x')\n",
    "plt.xticks(fontsize = 20)\n",
    "plt.yticks(fontsize = 25, rotation = 45)\n",
    "plt.grid(False)\n",
    "\n",
    "#tick unit edit\n",
    "plt.gca().yaxis.set_major_formatter(FormatStrFormatter('$%dM'))\n",
    "\n",
    "#plt.savefig('finalpbm2.jpeg', dpi=120)\n",
    "plt.show();"
   ]
  },
  {
   "cell_type": "markdown",
   "metadata": {},
   "source": [
    "This graph is okay but starts to eliminate important data. December has the overall best release date of Christmas but then is immediately followed by the worst release days leading up to New Year and when you combine the two it hides these insights."
   ]
  },
  {
   "cell_type": "markdown",
   "metadata": {},
   "source": [
    "### Filtering to See Trends in the Last 10 Years"
   ]
  },
  {
   "cell_type": "markdown",
   "metadata": {},
   "source": [
    "### Weekly data filtered by last 10 years"
   ]
  },
  {
   "cell_type": "code",
   "execution_count": null,
   "metadata": {},
   "outputs": [],
   "source": [
    "q4 = '''SELECT release_week,\n",
    "            AVG(profit) as Average_Profit_Weekly,\n",
    "            ROUND(AVG(profit)/1000000, 2) AS Graph_APM\n",
    "       FROM tnmovie\n",
    "       WHERE\n",
    "            release_year > 2008       \n",
    "       GROUP BY\n",
    "           release_week;'''\n",
    "tnmovies_pandas_weekly_10_years = pysqldf(q4)\n",
    "tnmovies_pandas_weekly_10_years"
   ]
  },
  {
   "cell_type": "markdown",
   "metadata": {},
   "source": [
    "### Creation of Weekly Release Profits Graph Filtered by Last 10 Years"
   ]
  },
  {
   "cell_type": "code",
   "execution_count": null,
   "metadata": {},
   "outputs": [],
   "source": [
    "plt.figure(figsize=(28, 8), dpi=80)\n",
    "movie_realease_by_week_10_year = plt.bar(x = tnmovies_pandas_weekly_10_years['release_week'], height = tnmovies_pandas_weekly_10_years['Graph_APM'])\n",
    "\n",
    "#Graph Labels\n",
    "plt.title('Movie Profit by Week', fontsize = 50, fontweight='bold', pad = 30)\n",
    "plt.xlabel('Week of the Year', fontsize = 30, labelpad = 20)\n",
    "plt.ylabel('Movie Profit', fontsize = 30, labelpad = 20)\n",
    "\n",
    "#tick formatting\n",
    "plt.ticklabel_format(axis='y', style='plain')\n",
    "plt.ticklabel_format(axis='x')\n",
    "plt.xticks(fontsize = 20)\n",
    "plt.yticks(fontsize = 25, rotation = 45)\n",
    "plt.grid(False)\n",
    "\n",
    "#tick unit edit\n",
    "plt.gca().yaxis.set_major_formatter(FormatStrFormatter('$%dM'))\n",
    "#Margin around plot\n",
    "#plt.margins(.1, .1)\n",
    "\n",
    "#Vertical Line\n",
    "#plt.text(48.6, 178,'Christmas Day',rotation=90, color = 'black', fontsize = 20, fontweight='bold')\n",
    "#plt.text(44.6, 188,'Thanksgiving',rotation=90, color = 'black', fontsize = 20, fontweight='bold')\n",
    "#plt.axvline(x=26, ymin=0, ymax=1, color = 'lightcoral')\n",
    "#plt.text(24.6, 185,'Memorial Day',rotation=90, color = 'black', fontsize = 20, fontweight='bold')\n",
    "#plt.axvline(x=6, ymin=0, ymax=1, color = 'lightcoral')\n",
    "#plt.text(4.6, 150,'Chinese New Year',rotation=90, color = 'black', fontsize = 20, fontweight='bold')\n",
    "\n",
    "#plt.savefig('finalpbw2.jpeg', dpi=120)\n",
    "plt.show();"
   ]
  },
  {
   "cell_type": "markdown",
   "metadata": {},
   "source": [
    "### Findings"
   ]
  },
  {
   "cell_type": "markdown",
   "metadata": {},
   "source": [
    "In November and December, people are traveling to see their family, and oftentimes deciding to go see a movie together. Depending on the release date for your movie, you can see a huge success, or a huge flop, even with great star power."
   ]
  },
  {
   "cell_type": "markdown",
   "metadata": {},
   "source": [
    "### Reviewing Critic Rating Data Against Profit/ROI"
   ]
  },
  {
   "cell_type": "code",
   "execution_count": null,
   "metadata": {},
   "outputs": [],
   "source": [
    "rt_reviews_df = pd.read_csv('./Data/rt.reviews.tsv',\n",
    "                           delimiter='\\t',\n",
    "                           encoding=('unicode_escape'))"
   ]
  },
  {
   "cell_type": "code",
   "execution_count": null,
   "metadata": {},
   "outputs": [],
   "source": [
    "bom = pd.read_csv('./Data/bom.movie_gross.csv')"
   ]
  },
  {
   "cell_type": "code",
   "execution_count": null,
   "metadata": {},
   "outputs": [],
   "source": [
    "rt_movie_info = pd.read_csv('./Data/rt.movie_info.tsv',\n",
    "                           delimiter = '\\t')"
   ]
  },
  {
   "cell_type": "markdown",
   "metadata": {},
   "source": [
    "# List of SQL Tables"
   ]
  },
  {
   "cell_type": "markdown",
   "metadata": {},
   "source": [
    "## Viewing Table Heads to Locate Relevant Columns"
   ]
  },
  {
   "cell_type": "markdown",
   "metadata": {},
   "source": [
    "### Rotten Tomatoes Reviews"
   ]
  },
  {
   "cell_type": "code",
   "execution_count": null,
   "metadata": {},
   "outputs": [],
   "source": [
    "rt_reviews_df.head(2)"
   ]
  },
  {
   "cell_type": "code",
   "execution_count": null,
   "metadata": {},
   "outputs": [],
   "source": [
    "rt_reviews_df.shape"
   ]
  },
  {
   "cell_type": "markdown",
   "metadata": {},
   "source": [
    "Things to notice here are that the id is obviously an ID they use for the movie title. Date is not the release date of the movie rather the date of the review."
   ]
  },
  {
   "cell_type": "markdown",
   "metadata": {},
   "source": [
    "### Rotten Tomatoes Movie Info"
   ]
  },
  {
   "cell_type": "code",
   "execution_count": null,
   "metadata": {},
   "outputs": [],
   "source": [
    "rt_movie_info.head(2)"
   ]
  },
  {
   "cell_type": "code",
   "execution_count": null,
   "metadata": {},
   "outputs": [],
   "source": [
    "rt_movie_info.shape"
   ]
  },
  {
   "cell_type": "markdown",
   "metadata": {},
   "source": [
    "It seems that because this database does not include the title of the films that, even though it has a lot of review data, it is unusable for our purposes."
   ]
  },
  {
   "cell_type": "markdown",
   "metadata": {},
   "source": [
    "### Box Office Mojo"
   ]
  },
  {
   "cell_type": "code",
   "execution_count": null,
   "metadata": {},
   "outputs": [],
   "source": [
    "bom.head(2)"
   ]
  },
  {
   "cell_type": "markdown",
   "metadata": {},
   "source": [
    "Does not contain any review data."
   ]
  },
  {
   "cell_type": "markdown",
   "metadata": {},
   "source": [
    "### The Numbers"
   ]
  },
  {
   "cell_type": "code",
   "execution_count": null,
   "metadata": {},
   "outputs": [],
   "source": [
    "tnmovie.head(2)"
   ]
  },
  {
   "cell_type": "markdown",
   "metadata": {},
   "source": [
    "Tnmovie does not contain any review data."
   ]
  },
  {
   "cell_type": "markdown",
   "metadata": {},
   "source": [
    "### IMDB"
   ]
  },
  {
   "cell_type": "markdown",
   "metadata": {},
   "source": [
    "#### Movie Ratings"
   ]
  },
  {
   "cell_type": "code",
   "execution_count": null,
   "metadata": {},
   "outputs": [],
   "source": [
    "pd.read_sql('''\n",
    "SELECT\n",
    "    *\n",
    "FROM\n",
    "    movie_ratings\n",
    "\n",
    "''',conn)"
   ]
  },
  {
   "cell_type": "markdown",
   "metadata": {},
   "source": [
    "This looks promising, will have to join on movie ID to make useable DF."
   ]
  },
  {
   "cell_type": "markdown",
   "metadata": {},
   "source": [
    "#### Movie Basics"
   ]
  },
  {
   "cell_type": "code",
   "execution_count": null,
   "metadata": {},
   "outputs": [],
   "source": [
    "cleaned_movie_basics = pd.read_sql('''\n",
    "SELECT\n",
    "    *\n",
    "FROM\n",
    "    movie_basics\n",
    "WHERE\n",
    "    movie_id IN (SELECT movie_id\n",
    "                 FROM movie_ratings\n",
    "                 WHERE numvotes > 700)\n",
    "\n",
    "''',conn)"
   ]
  },
  {
   "cell_type": "markdown",
   "metadata": {},
   "source": [
    "## Joining Movie Basics and Movie Ratings"
   ]
  },
  {
   "cell_type": "code",
   "execution_count": null,
   "metadata": {},
   "outputs": [],
   "source": [
    "pd.read_sql('''\n",
    "SELECT\n",
    "    *\n",
    "FROM\n",
    "    movie_basics\n",
    "JOIN movie_ratings\n",
    "USING (movie_id)\n",
    "WHERE\n",
    "    movie_id IN (SELECT movie_id\n",
    "                 FROM movie_ratings\n",
    "                 WHERE numvotes > 700)\n",
    "''',conn)"
   ]
  },
  {
   "cell_type": "code",
   "execution_count": null,
   "metadata": {},
   "outputs": [],
   "source": [
    "review_id_df = pd.read_sql('''\n",
    "SELECT\n",
    "    *\n",
    "FROM\n",
    "    movie_basics\n",
    "JOIN movie_ratings\n",
    "USING (movie_id)\n",
    "WHERE\n",
    "    movie_id IN (SELECT movie_id\n",
    "                 FROM movie_ratings\n",
    "                 WHERE numvotes > 700)\n",
    "''',conn)"
   ]
  },
  {
   "cell_type": "markdown",
   "metadata": {},
   "source": [
    "## Creating Scatter Plot for Numvotes vs AverageRating"
   ]
  },
  {
   "cell_type": "code",
   "execution_count": null,
   "metadata": {},
   "outputs": [],
   "source": [
    "plt.figure(figsize=(28, 8), dpi=80)\n",
    "rating_vs_num_reviews = plt.scatter(x = review_id_df['numvotes'], y = review_id_df['averagerating'])\n",
    "plt.title('Number of Votes Vs. Average Rating')\n",
    "plt.xlabel('Number of Votes')\n",
    "plt.ylabel('Average Rating')\n",
    "plt.show();"
   ]
  },
  {
   "cell_type": "markdown",
   "metadata": {},
   "source": [
    "It seems like the metrics of number of reviews vs average rating isnt going to be all that important to the big wigs. I should probably add profit to this!"
   ]
  },
  {
   "cell_type": "markdown",
   "metadata": {},
   "source": [
    "It will be important to when combining DF's that we try and preserve as many of these rows as possible."
   ]
  },
  {
   "cell_type": "markdown",
   "metadata": {},
   "source": [
    "# Create Simple The Numbers DF"
   ]
  },
  {
   "cell_type": "code",
   "execution_count": null,
   "metadata": {},
   "outputs": [],
   "source": [
    "q = '''SELECT \n",
    "            movie,\n",
    "            profit,\n",
    "            perc_return\n",
    "       FROM tnmovie\n",
    "       ORDER BY\n",
    "           profit DESC;'''\n",
    "tnmovies_title_profit = pysqldf(q)\n",
    "tnmovies_title_profit"
   ]
  },
  {
   "cell_type": "code",
   "execution_count": null,
   "metadata": {},
   "outputs": [],
   "source": [
    "review_id_df.head()"
   ]
  },
  {
   "cell_type": "markdown",
   "metadata": {},
   "source": [
    "# Attempt One to Join The Numbers and IMDB"
   ]
  },
  {
   "cell_type": "code",
   "execution_count": null,
   "metadata": {},
   "outputs": [],
   "source": [
    "tn_imdb_profit = pd.merge(tnmovies_title_profit,\n",
    "                  review_id_df,\n",
    "                  left_on='movie',\n",
    "                  right_on='primary_title',\n",
    "                  )"
   ]
  },
  {
   "cell_type": "code",
   "execution_count": null,
   "metadata": {},
   "outputs": [],
   "source": [
    "tn_imdb_profit = tn_imdb_profit.drop_duplicates(subset = 'movie')"
   ]
  },
  {
   "cell_type": "markdown",
   "metadata": {},
   "source": [
    "# Creation of NumReviews VS Profit Scatter"
   ]
  },
  {
   "cell_type": "code",
   "execution_count": null,
   "metadata": {},
   "outputs": [],
   "source": [
    "plt.figure(figsize=(10, 10), dpi=80)\n",
    "numreviews_vs_profit = plt.scatter(x = tn_imdb_profit['numvotes'], y = tn_imdb_profit['profit'])\n",
    "plt.title('Number of Votes Vs. Profit')\n",
    "plt.xlabel('Number of Votes')\n",
    "plt.ylabel('Profit')\n",
    "plt.show();"
   ]
  },
  {
   "cell_type": "code",
   "execution_count": null,
   "metadata": {
    "scrolled": true
   },
   "outputs": [],
   "source": [
    "tn_imdb_profit.head(25)"
   ]
  },
  {
   "cell_type": "markdown",
   "metadata": {},
   "source": [
    "# Creation of Rating VS Profit"
   ]
  },
  {
   "cell_type": "code",
   "execution_count": null,
   "metadata": {},
   "outputs": [],
   "source": [
    "plt.figure(figsize=(28, 8), dpi=80)\n",
    "numreviews_vs_profit = plt.scatter(x = tn_imdb_profit['averagerating'], y = tn_imdb_profit['profit'])\n",
    "plt.title('Rating Vs. Profit')\n",
    "plt.xlabel('Rating')\n",
    "plt.ylabel('Profit')\n",
    "plt.show();"
   ]
  },
  {
   "cell_type": "markdown",
   "metadata": {},
   "source": [
    "# Creating Box and Whiskers for All Ratings Values"
   ]
  },
  {
   "cell_type": "code",
   "execution_count": null,
   "metadata": {},
   "outputs": [],
   "source": [
    "fig, ax1 = plt.subplots(figsize=(15,5))\n",
    "\n",
    "# Plot distribution of column with highest correlation\n",
    "sns.boxplot(\n",
    "    x=tn_imdb_profit['averagerating'],\n",
    "    y=tn_imdb_profit[\"profit\"],\n",
    "    showfliers = False,\n",
    "    ax=ax1)"
   ]
  },
  {
   "cell_type": "markdown",
   "metadata": {},
   "source": [
    "Well it's obvious I need to round these reviews out!"
   ]
  },
  {
   "cell_type": "markdown",
   "metadata": {},
   "source": [
    "# Normalizing Reviews"
   ]
  },
  {
   "cell_type": "code",
   "execution_count": null,
   "metadata": {},
   "outputs": [],
   "source": [
    "tn_imdb_profit.head()"
   ]
  },
  {
   "cell_type": "code",
   "execution_count": null,
   "metadata": {},
   "outputs": [],
   "source": [
    "tn_imdb_profit['averagerating_int'] = tn_imdb_profit['averagerating'].round()"
   ]
  },
  {
   "cell_type": "code",
   "execution_count": null,
   "metadata": {
    "scrolled": true
   },
   "outputs": [],
   "source": [
    "tn_imdb_profit.head()"
   ]
  },
  {
   "cell_type": "code",
   "execution_count": null,
   "metadata": {},
   "outputs": [],
   "source": [
    "tn_imdb_profit['averagerating_int'] = tn_imdb_profit['averagerating'].round()"
   ]
  },
  {
   "cell_type": "code",
   "execution_count": null,
   "metadata": {},
   "outputs": [],
   "source": [
    "tn_imdb_profit.value_counts('averagerating_int')"
   ]
  },
  {
   "cell_type": "markdown",
   "metadata": {},
   "source": [
    "# Removing Outliers ROI out of bounds"
   ]
  },
  {
   "cell_type": "code",
   "execution_count": null,
   "metadata": {},
   "outputs": [],
   "source": [
    "q3 = '''SELECT *\n",
    "       FROM tn_imdb_profit\n",
    "        ORDER BY\n",
    "            perc_return DESC; '''\n",
    "mean_per_rating_todrop = pysqldf(q3)\n",
    "mean_per_rating_todrop"
   ]
  },
  {
   "cell_type": "code",
   "execution_count": null,
   "metadata": {},
   "outputs": [],
   "source": [
    "mean_clean = mean_per_rating_todrop.drop([0, 1])"
   ]
  },
  {
   "cell_type": "code",
   "execution_count": null,
   "metadata": {},
   "outputs": [],
   "source": [
    "mean_clean.shape"
   ]
  },
  {
   "cell_type": "markdown",
   "metadata": {},
   "source": [
    "# Removing Justin Movie skewing Data"
   ]
  },
  {
   "cell_type": "code",
   "execution_count": null,
   "metadata": {},
   "outputs": [],
   "source": [
    "q4 = '''SELECT *\n",
    "       FROM mean_clean\n",
    "        ORDER BY \n",
    "        averagerating_int; '''\n",
    "mean_clean_no_justin = pysqldf(q4)\n",
    "mean_clean_no_justin"
   ]
  },
  {
   "cell_type": "code",
   "execution_count": null,
   "metadata": {},
   "outputs": [],
   "source": [
    "mean_clean_sans_justin = mean_clean_no_justin.drop([0])"
   ]
  },
  {
   "cell_type": "code",
   "execution_count": null,
   "metadata": {},
   "outputs": [],
   "source": [
    "mean_clean_sans_justin"
   ]
  },
  {
   "cell_type": "markdown",
   "metadata": {},
   "source": [
    "# Creating Box and Whiskers and Line Graph"
   ]
  },
  {
   "cell_type": "code",
   "execution_count": null,
   "metadata": {},
   "outputs": [],
   "source": [
    "fig, ax1 = plt.subplots(figsize=(10,10))\n",
    "sns.set_style(\"white\")\n",
    "sns.set_context(\"talk\")\n",
    "\n",
    "# Plot distribution of column with highest correlation\n",
    "sns.boxplot(\n",
    "    x=tn_imdb_profit['averagerating_int'],\n",
    "    y=tn_imdb_profit[\"perc_return\"],\n",
    "    showfliers = False,\n",
    "    ax=ax1)\n",
    "ax1.set(xlabel='Rating', ylabel='Return on Investment')\n",
    "plt.show();"
   ]
  },
  {
   "cell_type": "markdown",
   "metadata": {},
   "source": [
    "# Creation of ROI by Rating Line"
   ]
  },
  {
   "cell_type": "code",
   "execution_count": null,
   "metadata": {},
   "outputs": [],
   "source": [
    "import matplotlib.ticker as mtick"
   ]
  },
  {
   "cell_type": "code",
   "execution_count": null,
   "metadata": {},
   "outputs": [],
   "source": [
    "fig, ax2 = plt.subplots(figsize=(10,10))\n",
    "sns.lineplot(data=mean_clean_sans_justin, x='averagerating_int', y=\"perc_return\", ax=ax2)\n",
    "\n",
    "#Figure titles\n",
    "plt.title('Return on Investment by Rating', fontsize = 30, fontweight='bold', pad = 30)\n",
    "plt.xlabel('Rating', fontsize = 20, labelpad = 20)\n",
    "plt.ylabel('Return on Investment', fontsize = 20, labelpad = 20)\n",
    "\n",
    "#Setting the limits of the Graph\n",
    "ax2.set_xlim(2, 9)\n",
    "ax2.set_ylim(-100, 600)\n",
    "\n",
    "#Messing with the ticks\n",
    "plt.gca().yaxis.set_major_formatter(mtick.PercentFormatter(symbol='%'))\n",
    "plt.yticks(rotation = 45, fontsize = 12)\n",
    "\n",
    "#plt.savefig('ROI.jpeg', dpi=120)\n",
    "plt.show();"
   ]
  },
  {
   "cell_type": "markdown",
   "metadata": {},
   "source": [
    "# Simple Df to create Simple Graph ROI vs. Rating"
   ]
  },
  {
   "cell_type": "code",
   "execution_count": null,
   "metadata": {},
   "outputs": [],
   "source": [
    "mean_clean.value_counts('averagerating_int')"
   ]
  },
  {
   "cell_type": "code",
   "execution_count": null,
   "metadata": {},
   "outputs": [],
   "source": [
    "q2 = '''SELECT \n",
    "            AVG(perc_return) AS avg_roi,\n",
    "            averagerating_int AS Rating_Int\n",
    "       FROM mean_clean_sans_justin\n",
    "       GROUP BY\n",
    "           averagerating_int\n",
    "       ORDER BY\n",
    "           averagerating_int; '''\n",
    "mean_per_rating = pysqldf(q2)\n",
    "mean_per_rating"
   ]
  },
  {
   "cell_type": "code",
   "execution_count": null,
   "metadata": {},
   "outputs": [],
   "source": [
    "mean_per_rating.info()"
   ]
  },
  {
   "cell_type": "code",
   "execution_count": null,
   "metadata": {},
   "outputs": [],
   "source": [
    "corr = mean_per_rating.corr()\n",
    "\n",
    "corr.head()"
   ]
  },
  {
   "cell_type": "markdown",
   "metadata": {},
   "source": [
    "# Creation of Simple Graph"
   ]
  },
  {
   "cell_type": "code",
   "execution_count": null,
   "metadata": {},
   "outputs": [],
   "source": [
    "fig, ax1 = plt.subplots(figsize=(10,10))\n",
    "sns.lineplot(data = mean_per_rating, x='Rating_Int', y='avg_roi');"
   ]
  },
  {
   "cell_type": "markdown",
   "metadata": {},
   "source": [
    "### Findings"
   ]
  },
  {
   "cell_type": "markdown",
   "metadata": {},
   "source": [
    "It would appear from these graphs that movies that sit around an 8 on the ratings tend to be a good return on investment as indicated by a strong positive correlation between rating and ROI. You would assume that making the best rated movie would net you the most money but that does not appear to be the case. One thing that may explain this is that viewers would prefer to see a fun and exciting movie not a critically acclaimed one."
   ]
  },
  {
   "cell_type": "markdown",
   "metadata": {},
   "source": [
    "# Results/Recommendations"
   ]
  },
  {
   "cell_type": "markdown",
   "metadata": {},
   "source": [
    "With ROI/Profit as our guiding metric, Microsoft Studios may want to consider making a movie in the musical, biopic, or romance genre directed by Ridley Scott, starred by Dwayne \"The Rock\" Johnson, for release in early summer (May, June, July) or early winter (November, December). \n",
    "\n",
    "If reviews start coming in with an average rating sitting near 8/10, then the studio can have some confidence their movie's characteristics are leading to a strong ROI film."
   ]
  }
 ],
 "metadata": {
  "kernelspec": {
   "display_name": "Python (learn-env)",
   "language": "python",
   "name": "learn-env"
  },
  "language_info": {
   "codemirror_mode": {
    "name": "ipython",
    "version": 3
   },
   "file_extension": ".py",
   "mimetype": "text/x-python",
   "name": "python",
   "nbconvert_exporter": "python",
   "pygments_lexer": "ipython3",
   "version": "3.9.12"
  }
 },
 "nbformat": 4,
 "nbformat_minor": 4
}
